{
 "cells": [
  {
   "cell_type": "code",
   "execution_count": 10,
   "metadata": {},
   "outputs": [],
   "source": [
    "from utils_dir.utils import get_varargin as get_varargin"
   ]
  },
  {
   "cell_type": "code",
   "execution_count": 6,
   "metadata": {},
   "outputs": [
    {
     "name": "stdout",
     "output_type": "stream",
     "text": [
      "/home/phatluu/serviceBot\n",
      "\n",
      "/home/phatluu/catkin_ws/devel/lib/python2.7/dist-packages\n",
      "/opt/ros/kinetic/lib/python2.7/dist-packages\n",
      "/home/phatluu/anaconda3/envs/serviceBot/lib/python37.zip\n",
      "/home/phatluu/anaconda3/envs/serviceBot/lib/python3.7\n",
      "/home/phatluu/anaconda3/envs/serviceBot/lib/python3.7/lib-dynload\n",
      "/home/phatluu/anaconda3/envs/serviceBot/lib/python3.7/site-packages\n",
      "/home/phatluu/anaconda3/envs/serviceBot/lib/python3.7/site-packages/pycocotools-2.0-py3.7-linux-x86_64.egg\n",
      "/home/phatluu/anaconda3/envs/serviceBot/lib/python3.7/site-packages/IPython/extensions\n",
      "/home/phatluu/.ipython\n"
     ]
    }
   ],
   "source": [
    "import sys\n",
    "for p in sys.path:\n",
    "    print(p)"
   ]
  },
  {
   "cell_type": "code",
   "execution_count": 8,
   "metadata": {},
   "outputs": [],
   "source": [
    "sys.path.remove('/home/phatluu/serviceBot')"
   ]
  },
  {
   "cell_type": "code",
   "execution_count": 9,
   "metadata": {},
   "outputs": [
    {
     "data": {
      "text/plain": [
       "['',\n",
       " '/home/phatluu/catkin_ws/devel/lib/python2.7/dist-packages',\n",
       " '/opt/ros/kinetic/lib/python2.7/dist-packages',\n",
       " '/home/phatluu/anaconda3/envs/serviceBot/lib/python37.zip',\n",
       " '/home/phatluu/anaconda3/envs/serviceBot/lib/python3.7',\n",
       " '/home/phatluu/anaconda3/envs/serviceBot/lib/python3.7/lib-dynload',\n",
       " '/home/phatluu/anaconda3/envs/serviceBot/lib/python3.7/site-packages',\n",
       " '/home/phatluu/anaconda3/envs/serviceBot/lib/python3.7/site-packages/pycocotools-2.0-py3.7-linux-x86_64.egg',\n",
       " '/home/phatluu/anaconda3/envs/serviceBot/lib/python3.7/site-packages/IPython/extensions',\n",
       " '/home/phatluu/.ipython']"
      ]
     },
     "execution_count": 9,
     "metadata": {},
     "output_type": "execute_result"
    }
   ],
   "source": [
    "sys.path"
   ]
  },
  {
   "cell_type": "code",
   "execution_count": 1,
   "metadata": {},
   "outputs": [],
   "source": [
    "#   AI Framework\n",
    "import tensorflow as tf\n",
    "import tensorflow.python.keras as keras # tensorflow 2.0\n",
    "import tensorflow.python.keras.backend as K\n",
    "import tensorflow.python.keras.layers as KL\n",
    "import tensorflow.python.keras.engine as KE\n",
    "from tensorflow.python.keras.models import Model\n",
    "from tensorflow.python.keras.utils.vis_utils import plot_model\n",
    "from keras_applications.imagenet_utils import _obtain_input_shape"
   ]
  },
  {
   "cell_type": "code",
   "execution_count": 2,
   "metadata": {},
   "outputs": [
    {
     "ename": "ValueError",
     "evalue": "This model has not yet been built. Build the model first by calling `build()` or calling `fit()` with some data, or specify an `input_shape` argument in the first layer(s) for automatic build.",
     "output_type": "error",
     "traceback": [
      "\u001b[0;31m---------------------------------------------------------------------------\u001b[0m",
      "\u001b[0;31mValueError\u001b[0m                                Traceback (most recent call last)",
      "\u001b[0;32m<ipython-input-2-25ad05a72e68>\u001b[0m in \u001b[0;36m<module>\u001b[0;34m\u001b[0m\n\u001b[1;32m     22\u001b[0m \u001b[0;31m# utils.show_obj_params(mymodel)\u001b[0m\u001b[0;34m\u001b[0m\u001b[0;34m\u001b[0m\u001b[0;34m\u001b[0m\u001b[0m\n\u001b[1;32m     23\u001b[0m \u001b[0;31m# mymodel.build((28,28,1))\u001b[0m\u001b[0;34m\u001b[0m\u001b[0;34m\u001b[0m\u001b[0;34m\u001b[0m\u001b[0m\n\u001b[0;32m---> 24\u001b[0;31m \u001b[0mmodel\u001b[0m\u001b[0;34m.\u001b[0m\u001b[0msummary\u001b[0m\u001b[0;34m(\u001b[0m\u001b[0;34m)\u001b[0m\u001b[0;34m\u001b[0m\u001b[0;34m\u001b[0m\u001b[0m\n\u001b[0m",
      "\u001b[0;32m~/anaconda3/envs/serviceBot/lib/python3.7/site-packages/tensorflow_core/python/keras/engine/network.py\u001b[0m in \u001b[0;36msummary\u001b[0;34m(self, line_length, positions, print_fn)\u001b[0m\n\u001b[1;32m   1255\u001b[0m     \"\"\"\n\u001b[1;32m   1256\u001b[0m     \u001b[0;32mif\u001b[0m \u001b[0;32mnot\u001b[0m \u001b[0mself\u001b[0m\u001b[0;34m.\u001b[0m\u001b[0mbuilt\u001b[0m\u001b[0;34m:\u001b[0m\u001b[0;34m\u001b[0m\u001b[0;34m\u001b[0m\u001b[0m\n\u001b[0;32m-> 1257\u001b[0;31m       raise ValueError('This model has not yet been built. '\n\u001b[0m\u001b[1;32m   1258\u001b[0m                        \u001b[0;34m'Build the model first by calling `build()` or calling '\u001b[0m\u001b[0;34m\u001b[0m\u001b[0;34m\u001b[0m\u001b[0m\n\u001b[1;32m   1259\u001b[0m                        \u001b[0;34m'`fit()` with some data, or specify '\u001b[0m\u001b[0;34m\u001b[0m\u001b[0;34m\u001b[0m\u001b[0m\n",
      "\u001b[0;31mValueError\u001b[0m: This model has not yet been built. Build the model first by calling `build()` or calling `fit()` with some data, or specify an `input_shape` argument in the first layer(s) for automatic build."
     ]
    }
   ],
   "source": [
    "def mnist_model(num_classes, **kwargs):\n",
    "    # Reset default graph. Keras leaves old ops in the graph,\n",
    "    # which are ignored for execution but clutter graph\n",
    "    # visualization in TensorBoard.\n",
    "    # tf.reset_default_graph()\n",
    "    input_shape = (28,28,1)\n",
    "    img_input = KL.Input(shape = input_shape, name=\"input_image\")\n",
    "    x = KL.Conv2D(32, (3, 3), padding=\"same\",name=\"conv1\")(img_input)\n",
    "    x = KL.Activation('relu')(x)\n",
    "    x = KL.Conv2D(64, (3, 3), padding=\"same\",name=\"conv2\")(x)\n",
    "    x = KL.Activation('relu')(x)\n",
    "    x = KL.MaxPooling2D(pool_size=(2, 2), name=\"pool1\")(x)\n",
    "    x = KL.Flatten(name=\"flat1\")(x)\n",
    "    x = KL.Dense(128, activation='relu', name=\"dense1\")(x)\n",
    "    x = KL.Dense(num_classes, activation='softmax', name=\"dense2\")(x)\n",
    "\n",
    "    inputs = img_input\n",
    "    model = Model(inputs, x, \"digit_classifier_model\")\n",
    "    return model\n",
    "\n",
    "model = mnist_model(num_classes=10)\n",
    "# utils.show_obj_params(mymodel)\n",
    "# mymodel.build((28,28,1))\n",
    "model.summary()"
   ]
  }
 ],
 "metadata": {
  "kernelspec": {
   "display_name": "Python 3",
   "language": "python",
   "name": "python3"
  },
  "language_info": {
   "codemirror_mode": {
    "name": "ipython",
    "version": 3
   },
   "file_extension": ".py",
   "mimetype": "text/x-python",
   "name": "python",
   "nbconvert_exporter": "python",
   "pygments_lexer": "ipython3",
   "version": "3.7.4"
  }
 },
 "nbformat": 4,
 "nbformat_minor": 4
}
