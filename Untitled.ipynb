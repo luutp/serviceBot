{
 "cells": [
  {
   "cell_type": "code",
   "execution_count": 10,
   "metadata": {},
   "outputs": [],
   "source": [
    "from utils_dir.utils import get_varargin as get_varargin"
   ]
  },
  {
   "cell_type": "code",
   "execution_count": 6,
   "metadata": {},
   "outputs": [
    {
     "name": "stdout",
     "output_type": "stream",
     "text": [
      "/home/phatluu/serviceBot\n",
      "\n",
      "/home/phatluu/catkin_ws/devel/lib/python2.7/dist-packages\n",
      "/opt/ros/kinetic/lib/python2.7/dist-packages\n",
      "/home/phatluu/anaconda3/envs/serviceBot/lib/python37.zip\n",
      "/home/phatluu/anaconda3/envs/serviceBot/lib/python3.7\n",
      "/home/phatluu/anaconda3/envs/serviceBot/lib/python3.7/lib-dynload\n",
      "/home/phatluu/anaconda3/envs/serviceBot/lib/python3.7/site-packages\n",
      "/home/phatluu/anaconda3/envs/serviceBot/lib/python3.7/site-packages/pycocotools-2.0-py3.7-linux-x86_64.egg\n",
      "/home/phatluu/anaconda3/envs/serviceBot/lib/python3.7/site-packages/IPython/extensions\n",
      "/home/phatluu/.ipython\n"
     ]
    }
   ],
   "source": [
    "import sys\n",
    "for p in sys.path:\n",
    "    print(p)"
   ]
  },
  {
   "cell_type": "code",
   "execution_count": 8,
   "metadata": {},
   "outputs": [],
   "source": [
    "sys.path.remove('/home/phatluu/serviceBot')"
   ]
  },
  {
   "cell_type": "code",
   "execution_count": 9,
   "metadata": {},
   "outputs": [
    {
     "data": {
      "text/plain": [
       "['',\n",
       " '/home/phatluu/catkin_ws/devel/lib/python2.7/dist-packages',\n",
       " '/opt/ros/kinetic/lib/python2.7/dist-packages',\n",
       " '/home/phatluu/anaconda3/envs/serviceBot/lib/python37.zip',\n",
       " '/home/phatluu/anaconda3/envs/serviceBot/lib/python3.7',\n",
       " '/home/phatluu/anaconda3/envs/serviceBot/lib/python3.7/lib-dynload',\n",
       " '/home/phatluu/anaconda3/envs/serviceBot/lib/python3.7/site-packages',\n",
       " '/home/phatluu/anaconda3/envs/serviceBot/lib/python3.7/site-packages/pycocotools-2.0-py3.7-linux-x86_64.egg',\n",
       " '/home/phatluu/anaconda3/envs/serviceBot/lib/python3.7/site-packages/IPython/extensions',\n",
       " '/home/phatluu/.ipython']"
      ]
     },
     "execution_count": 9,
     "metadata": {},
     "output_type": "execute_result"
    }
   ],
   "source": [
    "sys.path"
   ]
  },
  {
   "cell_type": "code",
   "execution_count": null,
   "metadata": {},
   "outputs": [],
   "source": []
  }
 ],
 "metadata": {
  "kernelspec": {
   "display_name": "Python 3",
   "language": "python",
   "name": "python3"
  },
  "language_info": {
   "codemirror_mode": {
    "name": "ipython",
    "version": 3
   },
   "file_extension": ".py",
   "mimetype": "text/x-python",
   "name": "python",
   "nbconvert_exporter": "python",
   "pygments_lexer": "ipython3",
   "version": "3.7.4"
  }
 },
 "nbformat": 4,
 "nbformat_minor": 4
}
