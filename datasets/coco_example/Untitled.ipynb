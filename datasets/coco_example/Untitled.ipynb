{
 "cells": [
  {
   "cell_type": "code",
   "execution_count": 17,
   "metadata": {},
   "outputs": [
    {
     "name": "stdout",
     "output_type": "stream",
     "text": [
      "Welcome to Alphabet to Morse Code Translator v.01\n",
      "\n"
     ]
    },
    {
     "ename": "NameError",
     "evalue": "name 'raw_input' is not defined",
     "output_type": "error",
     "traceback": [
      "\u001b[0;31m---------------------------------------------------------------------------\u001b[0m",
      "\u001b[0;31mNameError\u001b[0m                                 Traceback (most recent call last)",
      "\u001b[0;32m<ipython-input-17-ff60ba6c4fe4>\u001b[0m in \u001b[0;36m<module>\u001b[0;34m\u001b[0m\n\u001b[1;32m     53\u001b[0m \u001b[0;34m\u001b[0m\u001b[0m\n\u001b[1;32m     54\u001b[0m \u001b[0;34m\u001b[0m\u001b[0m\n\u001b[0;32m---> 55\u001b[0;31m \u001b[0mmain\u001b[0m\u001b[0;34m(\u001b[0m\u001b[0;34m)\u001b[0m\u001b[0;34m\u001b[0m\u001b[0;34m\u001b[0m\u001b[0m\n\u001b[0m",
      "\u001b[0;32m<ipython-input-17-ff60ba6c4fe4>\u001b[0m in \u001b[0;36mmain\u001b[0;34m()\u001b[0m\n\u001b[1;32m     36\u001b[0m         \u001b[0mprint\u001b[0m\u001b[0;34m(\u001b[0m\u001b[0;34m'Welcome to Alphabet to Morse Code Translator v.01\\n'\u001b[0m\u001b[0;34m)\u001b[0m\u001b[0;34m\u001b[0m\u001b[0;34m\u001b[0m\u001b[0m\n\u001b[1;32m     37\u001b[0m \u001b[0;34m\u001b[0m\u001b[0m\n\u001b[0;32m---> 38\u001b[0;31m         \u001b[0mmsg\u001b[0m \u001b[0;34m=\u001b[0m \u001b[0mraw_input\u001b[0m\u001b[0;34m(\u001b[0m\u001b[0;34m'Enter Message: '\u001b[0m\u001b[0;34m)\u001b[0m\u001b[0;34m\u001b[0m\u001b[0;34m\u001b[0m\u001b[0m\n\u001b[0m\u001b[1;32m     39\u001b[0m         \u001b[0mverify\u001b[0m\u001b[0;34m(\u001b[0m\u001b[0mmsg\u001b[0m\u001b[0;34m)\u001b[0m\u001b[0;34m\u001b[0m\u001b[0;34m\u001b[0m\u001b[0m\n\u001b[1;32m     40\u001b[0m         \u001b[0mprint\u001b[0m\u001b[0;34m\u001b[0m\u001b[0;34m\u001b[0m\u001b[0m\n",
      "\u001b[0;31mNameError\u001b[0m: name 'raw_input' is not defined"
     ]
    }
   ],
   "source": [
    "from __future__ import print_function\n",
    "import pygame\n",
    "import time\n",
    "import sys\n",
    "\n",
    "CODE = {'A': '.-',     'B': '-...',   'C': '-.-.', \n",
    "        'D': '-..',    'E': '.',      'F': '..-.',\n",
    "        'G': '--.',    'H': '....',   'I': '..',\n",
    "        'J': '.---',   'K': '-.-',    'L': '.-..',\n",
    "        'M': '--',     'N': '-.',     'O': '---',\n",
    "        'P': '.--.',   'Q': '--.-',   'R': '.-.',\n",
    "     \t'S': '...',    'T': '-',      'U': '..-',\n",
    "        'V': '...-',   'W': '.--',    'X': '-..-',\n",
    "        'Y': '-.--',   'Z': '--..',\n",
    "        \n",
    "        '0': '-----',  '1': '.----',  '2': '..---',\n",
    "        '3': '...--',  '4': '....-',  '5': '.....',\n",
    "        '6': '-....',  '7': '--...',  '8': '---..',\n",
    "        '9': '----.' \n",
    "        }\n",
    "        \n",
    "ONE_UNIT = 0.5\n",
    "THREE_UNITS = 3 * ONE_UNIT\n",
    "SEVEN_UNITS = 7 * ONE_UNIT\n",
    "PATH = 'morse_sound_files/'\n",
    "\n",
    "def verify(string):\n",
    "\tkeys = CODE.keys()\n",
    "\tfor char in string:\n",
    "\t\tif char.upper() not in keys and char != ' ':\n",
    "\t\t\tsys.exit('Error the charcter ' + char + ' cannot be translated to Morse Code')\n",
    "\n",
    "def main():\n",
    "\t\n",
    "\t\n",
    "\tprint('Welcome to Alphabet to Morse Code Translator v.01\\n')\n",
    "\t\n",
    "\tmsg = raw_input('Enter Message: ')\n",
    "\tverify(msg)\n",
    "\tprint\n",
    "\tpygame.init()\n",
    "\t\n",
    "\tfor char in msg:\n",
    "\t\tif char == ' ':\n",
    "\t\t\tprint(' '*7,)\n",
    "\t\t\ttime.sleep(SEVEN_UNITS)\n",
    "\t\telse:\n",
    "\t\t\tprint(CODE[char.upper()])\n",
    "\t\t\tpygame.mixer.music.load(PATH + char.upper() + 'A_morse_code.ogg')\n",
    "\t\t\tpygame.mixer.music.play()\n",
    "\t\t\ttime.sleep(THREE_UNITS)\n",
    "\t\t\t\n",
    "\n",
    "\n",
    "main()\n"
   ]
  },
  {
   "cell_type": "code",
   "execution_count": null,
   "metadata": {},
   "outputs": [],
   "source": []
  }
 ],
 "metadata": {
  "kernelspec": {
   "display_name": "Python 3",
   "language": "python",
   "name": "python3"
  },
  "language_info": {
   "codemirror_mode": {
    "name": "ipython",
    "version": 3
   },
   "file_extension": ".py",
   "mimetype": "text/x-python",
   "name": "python",
   "nbconvert_exporter": "python",
   "pygments_lexer": "ipython3",
   "version": "3.7.4"
  }
 },
 "nbformat": 4,
 "nbformat_minor": 4
}
