{
 "cells": [
  {
   "cell_type": "code",
   "execution_count": 1,
   "metadata": {},
   "outputs": [],
   "source": [
    "%load_ext autoreload\n",
    "%autoreload 2\n",
    "import warnings\n",
    "warnings.filterwarnings('ignore')\n",
    "from IPython.core.debugger import set_trace"
   ]
  },
  {
   "cell_type": "markdown",
   "metadata": {},
   "source": [
    "# Import packages"
   ]
  },
  {
   "cell_type": "code",
   "execution_count": 2,
   "metadata": {},
   "outputs": [
    {
     "ename": "ModuleNotFoundError",
     "evalue": "No module named 'easydict'",
     "output_type": "error",
     "traceback": [
      "\u001b[0;31m---------------------------------------------------------------------------\u001b[0m",
      "\u001b[0;31mModuleNotFoundError\u001b[0m                       Traceback (most recent call last)",
      "\u001b[0;32m<ipython-input-2-bb043372fb6d>\u001b[0m in \u001b[0;36m<module>\u001b[0;34m\u001b[0m\n\u001b[1;32m      8\u001b[0m \u001b[0;32mimport\u001b[0m \u001b[0mwarnings\u001b[0m\u001b[0;34m,\u001b[0m \u001b[0mlogging\u001b[0m\u001b[0;34m\u001b[0m\u001b[0;34m\u001b[0m\u001b[0m\n\u001b[1;32m      9\u001b[0m \u001b[0;32mimport\u001b[0m \u001b[0margparse\u001b[0m\u001b[0;34m\u001b[0m\u001b[0;34m\u001b[0m\u001b[0m\n\u001b[0;32m---> 10\u001b[0;31m \u001b[0;32mfrom\u001b[0m \u001b[0measydict\u001b[0m \u001b[0;32mimport\u001b[0m \u001b[0mEasyDict\u001b[0m \u001b[0;32mas\u001b[0m \u001b[0medict\u001b[0m\u001b[0;34m\u001b[0m\u001b[0;34m\u001b[0m\u001b[0m\n\u001b[0m\u001b[1;32m     11\u001b[0m \u001b[0;31m#\u001b[0m\u001b[0;34m\u001b[0m\u001b[0;34m\u001b[0m\u001b[0;34m\u001b[0m\u001b[0m\n\u001b[1;32m     12\u001b[0m \u001b[0;32mimport\u001b[0m \u001b[0mpickle\u001b[0m\u001b[0;34m\u001b[0m\u001b[0;34m\u001b[0m\u001b[0m\n",
      "\u001b[0;31mModuleNotFoundError\u001b[0m: No module named 'easydict'"
     ]
    }
   ],
   "source": [
    "from __future__ import print_function\n",
    "import os\n",
    "import shutil\n",
    "import sys\n",
    "import inspect\n",
    "import time\n",
    "from datetime import datetime\n",
    "import warnings, logging\n",
    "import argparse\n",
    "from easydict import EasyDict as edict\n",
    "# \n",
    "import pickle\n",
    "# \n",
    "import numpy as np\n",
    "# Pytorch\n",
    "import torch\n",
    "import torch.nn as nn\n",
    "import torch.nn.functional as F\n",
    "import torch.optim as optim\n",
    "import torchvision\n",
    "from torchvision import datasets, transforms\n",
    "# fastAI\n",
    "import fastai\n",
    "import fastai.vision as fastai_vis\n",
    "# Custom module\n",
    "import torchmodel_summary\n",
    "import GPUtils\n",
    "import utils\n",
    "# Metrics\n",
    "from sklearn.utils import class_weight\n",
    "from sklearn.metrics import accuracy_score, log_loss\n",
    "from sklearn.metrics import f1_score, recall_score, confusion_matrix\n",
    "from sklearn.metrics import precision_recall_curve, average_precision_score\n",
    "from sklearn.metrics import roc_curve, auc, roc_auc_score\n",
    "# Visualization-Plot\n",
    "import matplotlib.pyplot as plt\n",
    "import matplotlib.animation as animation\n",
    "import matplotlib.cm as cm\n",
    "import seaborn as sns"
   ]
  },
  {
   "cell_type": "code",
   "execution_count": 24,
   "metadata": {},
   "outputs": [],
   "source": [
    "mnist = fastai_vis.untar_data(fastai_vis.URLs.MNIST_TINY, dest = config.PATH.DATASET)"
   ]
  },
  {
   "cell_type": "code",
   "execution_count": 25,
   "metadata": {},
   "outputs": [],
   "source": [
    "tfms = fastai_vis.get_transforms(do_flip = False)\n",
    "data = (fastai_vis.ImageList.from_folder(mnist)\n",
    "        .split_by_folder()          \n",
    "        .label_from_folder()\n",
    "        .transform(tfms, size=32)\n",
    "        .databunch()\n",
    "        .normalize(imagenet_stats))"
   ]
  },
  {
   "cell_type": "code",
   "execution_count": 27,
   "metadata": {},
   "outputs": [
    {
     "data": {
      "image/png": "[encoded data removed]",
      "text/plain": [
       "<Figure size 432x432 with 9 Axes>"
      ]
     },
     "metadata": {
      "needs_background": "light"
     },
     "output_type": "display_data"
    }
   ],
   "source": [
    "data.show_batch(rows=3, figsize=(6,6))"
   ]
  },
  {
   "cell_type": "code",
   "execution_count": 28,
   "metadata": {},
   "outputs": [
    {
     "name": "stderr",
     "output_type": "stream",
     "text": [
      "Downloading: \"https://download.pytorch.org/models/resnet18-5c106cde.pth\" to pytorch_imagenet\\models\\checkpoints\\resnet18-5c106cde.pth\n",
      "100%|█████████████████████████| 46827520/46827520 [00:14<00:00, 3176548.63it/s]\n"
     ]
    },
    {
     "data": {
      "text/html": [
       "<table border=\"1\" class=\"dataframe\">\n",
       "  <thead>\n",
       "    <tr style=\"text-align: left;\">\n",
       "      <th>epoch</th>\n",
       "      <th>train_loss</th>\n",
       "      <th>valid_loss</th>\n",
       "      <th>accuracy</th>\n",
       "      <th>time</th>\n",
       "    </tr>\n",
       "  </thead>\n",
       "  <tbody>\n",
       "    <tr>\n",
       "      <td>0</td>\n",
       "      <td>0.509351</td>\n",
       "      <td>0.532178</td>\n",
       "      <td>0.779685</td>\n",
       "      <td>00:33</td>\n",
       "    </tr>\n",
       "  </tbody>\n",
       "</table>"
      ],
      "text/plain": [
       "<IPython.core.display.HTML object>"
      ]
     },
     "metadata": {},
     "output_type": "display_data"
    }
   ],
   "source": [
    "learn = cnn_learner(data, fastai_vis.models.resnet18, metrics=accuracy)\n",
    "learn.fit_one_cycle(1,1e-2)\n",
    "learn.save('mini_train')"
   ]
  },
  {
   "cell_type": "markdown",
   "metadata": {},
   "source": [
    "# Configs.py"
   ]
  },
  {
   "cell_type": "code",
   "execution_count": 3,
   "metadata": {},
   "outputs": [],
   "source": [
    "todaystr = datetime.today().strftime('%Y%m%d')       \n",
    "config = edict()\n",
    "# MODEl related\n",
    "config.MODEL = edict()\n",
    "config.MODEL.NAME = 'pytorch_alexnet'\n",
    "config.MODEL.INIT_WEIGHTS = True\n",
    "config.MODEL.PRETRAINED = ''\n",
    "config.MODEL.IMAGE_SIZE = [256, 256]  # width * height, ex: 192 * 256\n",
    "config.MODEL.STYLE = 'pytorch'\n",
    "config.MODEL.URL = edict()\n",
    "config.MODEL.URL.ALEXNET = 'https://download.pytorch.org/models/alexnet-owt-4df8aa71.pth'\n",
    "config.MODEL.URL.DENSENET121 = 'https://download.pytorch.org/models/densenet121-241335ed.pth'\n",
    "config.MODEL.URL.DENSENET169 = 'https://download.pytorch.org/models/densenet169-6f0f7f60.pth'\n",
    "config.MODEL.URL.DENSENET201 = 'https://download.pytorch.org/models/densenet201-4c113574.pth'\n",
    "config.MODEL.URL.DENSENET161 = 'https://download.pytorch.org/models/densenet161-17b70270.pth'\n",
    "config.MODEL.URL.INCEPTION_V3 = 'https://download.pytorch.org/models/inception_v3_google-1a9a5a14.pth'\n",
    "config.MODEL.URL.RESNET18 = 'https://download.pytorch.org/models/resnet18-5c106cde.pth'\n",
    "config.MODEL.URL.RESNET34 = 'https://download.pytorch.org/models/resnet34-333f7ec4.pth'\n",
    "config.MODEL.URL.RESNET50 = 'https://download.pytorch.org/models/resnet50-19c8e357.pth'\n",
    "config.MODEL.URL.RESNET101 ='https://download.pytorch.org/models/resnet101-5d3b4d8f.pth'\n",
    "config.MODEL.URL.RESNET152 ='https://download.pytorch.org/models/resnet152-b121ed2d.pth',   \n",
    "config.MODEL.URL.SQUEEZENET1_0 = 'https://download.pytorch.org/models/squeezenet1_0-a815701f.pth'\n",
    "config.MODEL.URL.SQUEEZENET1_1 = 'https://download.pytorch.org/models/squeezenet1_1-f364aa15.pth'\n",
    "config.MODEL.URL.VGG11 = 'https://download.pytorch.org/models/vgg11-bbd30ac9.pth'\n",
    "config.MODEL.URL.VGG13 = 'https://download.pytorch.org/models/vgg13-c768596a.pth'\n",
    "config.MODEL.URL.VGG16 = 'https://download.pytorch.org/models/vgg16-397923af.pth'\n",
    "config.MODEL.URL.VGG19 = 'https://download.pytorch.org/models/vgg19-dcbb9e9d.pth'\n",
    "config.MODEL.ALEXNET_IMAGE_SIZE = (224,224)\n",
    "config.MODEL.DENSENET_IMAGE_SIZE = (224,224)\n",
    "config.MODEL.RESTNET_IMAGE_SIZE = (224,224)\n",
    "config.MODEL.INCEPTION_IMAGE_SIZE = (299,299)\n",
    "config.MODEL.SQUEEZENET_IMAGE_SIZE = (224,224)\n",
    "config.MODEL.VGG_IMAGE_SIZE = (224,224)\n",
    "# DIRECTORY related\n",
    "config.PATH = edict()\n",
    "config.PATH.ROOT = 'pytorch_imagenet'\n",
    "config.PATH.DATASET = os.path.join(config.PATH.ROOT, 'dataset')\n",
    "config.PATH.MODELS = os.path.join(config.PATH.ROOT, 'models')\n",
    "config.PATH.LOGS = os.path.join(config.PATH.ROOT, 'logs')\n",
    "config.PATH.OUTPUTS = os.path.join(config.PATH.ROOT, 'outputs')\n",
    "config.PATH.HISTORY_FILE = os.path.join(config.PATH.LOGS, config.MODEL.NAME + '-hist.pckl')\n",
    "config.PATH.LATEST_MODEL_FILE = os.path.join(config.PATH.LOGS, config.MODEL.NAME + '-checkpoint-latest.pth.tar')\n",
    "config.PATH.BEST_MODEL_FILE = os.path.join(config.PATH.LOGS, config.MODEL.NAME + '-checkpoint-best.pth.tar')\n",
    "# HARDWARE related\n",
    "config.HARDWARE = edict()\n",
    "config.HARDWARE.USE_GPU = True if torch.cuda.is_available else False\n",
    "config.HARDWARE.GPU_NAME = ''\n",
    "if config.HARDWARE.USE_GPU:\n",
    "    config.HARDWARE.DEVICE = 'cuda'\n",
    "    config.HARDWARE.NB_GPUS = torch.cuda.device_count()    \n",
    "    config.HARDWARE.GPU_NAME = [torch.cuda.get_device_name(i) for i in range(config.HARDWARE.NB_GPUS)]\n",
    "else:\n",
    "    config.HARDWARE.DEVICE = 'cpu'\n",
    "config.HARDWARE.NUM_WORKERS = 1\n",
    "# DATASET related\n",
    "config.DATASET = edict()\n",
    "config.DATASET.ROOT = config.PATH.DATASET\n",
    "config.DATASET.DATASET = 'mpii'\n",
    "config.DATASET.TRAIN_SET = 'train'\n",
    "config.DATASET.TEST_SET = 'valid'\n",
    "config.DATASET.DATA_FORMAT = 'jpg'\n",
    "config.DATASET.SELECT_DATA = False\n",
    "# TRAIN related\n",
    "config.TRAIN = edict()\n",
    "config.TRAIN.RETRAIN = True # Option to continue training with pre-trained model\n",
    "config.TRAIN.LR_FACTOR = 0.1\n",
    "config.TRAIN.LR_STEP = [90, 110]\n",
    "config.TRAIN.LR = 0.001\n",
    "config.TRAIN.OPTIMIZER = 'adam'\n",
    "config.TRAIN.MOMENTUM = 0.9\n",
    "config.TRAIN.WD = 0.0001\n",
    "config.TRAIN.NESTEROV = False\n",
    "config.TRAIN.GAMMA1 = 0.99\n",
    "config.TRAIN.GAMMA2 = 0.0\n",
    "config.TRAIN.NB_EPOCH = 2\n",
    "config.TRAIN.BEGIN_EPOCH = 0\n",
    "config.TRAIN.END_EPOCH = 2\n",
    "config.TRAIN.RESUME = False\n",
    "config.TRAIN.CHECKPOINT = ''\n",
    "config.TRAIN.BATCH_SIZE = 64\n",
    "config.TRAIN.SHUFFLE = True\n",
    "config.TRAIN.LOG_INTERVAL = 20 #Log every 1% of the progress\n",
    "# TEST related\n",
    "config.TEST = edict()\n",
    "config.TEST.BATCH_SIZE = 64 # size of images for each device\n",
    "config.TEST.FLIP_TEST = False # Test Model Epoch\n",
    "config.TEST.POST_PROCESS = True\n",
    "config.TEST.SHIFT_HEATMAP = True\n",
    "config.TEST.USE_GT_BBOX = False"
   ]
  },
  {
   "cell_type": "markdown",
   "metadata": {},
   "source": [
    "# Project setup"
   ]
  },
  {
   "cell_type": "code",
   "execution_count": 4,
   "metadata": {},
   "outputs": [
    {
     "name": "stdout",
     "output_type": "stream",
     "text": [
      "Directory Exists: pytorch_imagenet...Progress...: 100.0%\n",
      "Directory Exists: pytorch_imagenet\\dataset...Progress...: 100.0%\n",
      "Directory Exists: pytorch_imagenet\\models...Progress...: 100.0%\n",
      "Directory Exists: pytorch_imagenet\\logs...Progress...: 100.0%\n",
      "Directory Exists: pytorch_imagenet\\outputs...Progress...: 100.0%\n",
      "20191021-06:58 | <ipython-input-4-9bb30eba3f2e> - INFO - Logging information for project: pytorch_imagenet\n",
      "20191021-06:58 | <ipython-input-4-9bb30eba3f2e> - INFO - Hardware information:\n",
      "20191021-06:58 | <ipython-input-4-9bb30eba3f2e> - INFO - \t Number of workers: 1\n",
      "20191021-06:58 | <ipython-input-4-9bb30eba3f2e> - INFO - \t Use GPU: True\n",
      "20191021-06:58 | <ipython-input-4-9bb30eba3f2e> - INFO - \t Number of GPUs: 2\n",
      "20191021-06:58 | <ipython-input-4-9bb30eba3f2e> - INFO - \t GPU list: ['GeForce GTX 1060 6GB', 'GeForce GTX 1060 6GB']\n"
     ]
    }
   ],
   "source": [
    "# Create project dirs\n",
    "def makedirs(*inputDirs):\n",
    "    nb_idx = len(inputDirs)\n",
    "    for idx, thisdir in enumerate(inputDirs):\n",
    "        if not os.path.exists(thisdir):\n",
    "            print('Making Directory: {}...Progress...: {:.1f}%'.format(thisdir, 100*(idx+1)/nb_idx))\n",
    "            os.makedirs(thisdir)\n",
    "        else:\n",
    "            print('Directory Exists: {}...Progress...: {:.1f}%'.format(thisdir, 100*(idx+1)/nb_idx))\n",
    "# for p in list(config.PATH.values()): makedirs(p)\n",
    "for p in list(config.PATH.values()):\n",
    "    _,ext = os.path.splitext(p)\n",
    "    if len(ext) == 0: makedirs(p)\n",
    "# Logging\n",
    "logger = logging.getLogger()\n",
    "stream_hdl = logging.StreamHandler(sys.stdout)\n",
    "file_hdl = logging.FileHandler(os.path.join(config.PATH.LOGS, config.MODEL.NAME + '-logging.log'), mode = 'a')\n",
    "formatter = logging.Formatter('%(asctime)s | %(filename)s - %(levelname)s - %(message)s',\n",
    "                             datefmt='%Y%m%d-%I:%M')\n",
    "stream_hdl.setFormatter(formatter)\n",
    "logger.addHandler(stream_hdl)\n",
    "file_hdl.setFormatter(formatter)\n",
    "logger.addHandler(file_hdl)\n",
    "logger.setLevel(logging.INFO)\n",
    "# Only keep one logger\n",
    "for h in logger.handlers[:-2]: \n",
    "    logger.removeHandler(h)\n",
    "logging.info('Logging information for project: {}'.format(config.PATH.ROOT))\n",
    "logging.info('Hardware information:')\n",
    "logging.info('\\t Number of workers: {}'.format(config.HARDWARE.NUM_WORKERS))\n",
    "logging.info('\\t Use GPU: {}'.format(config.HARDWARE.USE_GPU))\n",
    "if config.HARDWARE.USE_GPU:\n",
    "    logging.info('\\t Number of GPUs: {}'.format(config.HARDWARE.NB_GPUS))\n",
    "    logging.info('\\t GPU list: {}'.format(config.HARDWARE.GPU_NAME))"
   ]
  },
  {
   "cell_type": "markdown",
   "metadata": {},
   "source": [
    "# Utils"
   ]
  },
  {
   "cell_type": "code",
   "execution_count": 5,
   "metadata": {},
   "outputs": [],
   "source": [
    "def get_varargin(kwargs, inputkey, defaultValue):\n",
    "    outputVal = defaultValue\n",
    "    for key, value in kwargs.items():\n",
    "        if key == inputkey:\n",
    "            outputVal = value\n",
    "        else:\n",
    "            pass\n",
    "    return outputVal\n",
    "# Decorator\n",
    "def timeit(method):\n",
    "    def timed(*args, **kwargs):\n",
    "        start_time = time.time()\n",
    "        result = method(*args, **kwargs)\n",
    "        elapsed_time = (time.time() - start_time)*1000\n",
    "        msg = 'DONE: {func_name}.\\t' \\\n",
    "            'Elapsed Time: {elapsed_time:.2f}ms\\t'.format(\n",
    "            func_name = method.__name__,\n",
    "            elapsed_time = elapsed_time)\n",
    "        logging.info(msg)\n",
    "        return result\n",
    "    return timed\n",
    "# \n",
    "def convert_elapsedTime(elapsed_time):\n",
    "    '''\n",
    "    Convert elaped_time to hours, mins, secs\n",
    "    '''\n",
    "    hours, rem = divmod(elapsed_time, 3600)\n",
    "    minutes, seconds = divmod(rem, 60)\n",
    "    hms = edict()\n",
    "    hms.hours = hours\n",
    "    hms.mins = minutes\n",
    "    hms.secs = seconds\n",
    "    return hms\n",
    "# =============================================================================\n",
    "# Update history\n",
    "from collections import defaultdict\n",
    "def update_history(dict_list):\n",
    "    \"\"\"Combine a list of history\n",
    "    history = update_history([history, currentHist.history])\n",
    "    Returns:\n",
    "        [type]: [description]\n",
    "    \"\"\"\n",
    "    dd = defaultdict(list)    \n",
    "    for d in dict_list:\n",
    "        for key, value in d.items():\n",
    "            if not hasattr(value, '__iter__'):\n",
    "                value = (value,)\n",
    "            [dd[key].append(v) for v in value]    \n",
    "    return edict(dd)\n",
    "# =============================================================================\n",
    "@timeit\n",
    "def saveHistory(histFile, histInput):   \n",
    "    \"\"\"Save training history to file\n",
    "    \n",
    "    Args:\n",
    "        histFile ([type]): [description]\n",
    "        histInput ([type]): [description]\n",
    "    \"\"\"\n",
    "    logging.info('Saving history file: {}'.format(histFile))\n",
    "    with open(histFile, 'wb') as fid:\n",
    "        pickle.dump(histInput, fid)\n",
    "# =============================================================================\n",
    "@timeit\n",
    "def loadHistory(histInputfile):\n",
    "    \"\"\"Load history input file\n",
    "    Args:\n",
    "        histInputfile ([type]): [description]\n",
    "    \n",
    "    Returns:\n",
    "        [history]: [description]\n",
    "    \"\"\"\n",
    "    logging.info('Load pre-trained history file: {}'.format(histInputfile))\n",
    "    with open(histInputfile, 'rb') as fid:\n",
    "        history = pickle.load(fid)\n",
    "        return history\n",
    "# Save and Load model\n",
    "# =============================================================================\n",
    "@timeit\n",
    "def save_checkpoint(model, *args, **kwargs):\n",
    "    \"\"\"Save model structure to json file and weight to h5 file\n",
    "    \n",
    "    Args:\n",
    "        model: NN model\n",
    "    \"\"\"\n",
    "    save_best = get_varargin(kwargs, 'improved_status', False)\n",
    "    model_filepath = get_varargin(kwargs, 'file_path', config.PATH.LATEST_MODEL_FILE)\n",
    "    \n",
    "    ckpts_dict = {}\n",
    "    ckpts_dict['model_state_dict'] = model.state_dict()\n",
    "    for idx, arg in enumerate(args):\n",
    "        if idx == 0:\n",
    "            ckpts_dict['optimizer_state_dict'] = arg.state_dict()\n",
    "    \n",
    "    logging.info('Save lastest model to: {}'.format(model_filepath))\n",
    "    torch.save(ckpts_dict, model_filepath)\n",
    "    if save_best is True:\n",
    "        logging.info('Val_acc improved. Save best model to: {}'.format(config.PATH.BEST_MODEL_FILE))\n",
    "        shutil.copyfile(model_filepath, config.PATH.BEST_MODEL_FILE)\n",
    "# =============================================================================\n",
    "@timeit\n",
    "def load_checkpoint(**kwargs):\n",
    "    '''Save model structure to json file and weight to h5 file\n",
    "    \n",
    "    Args:\n",
    "        model: NN model\n",
    "    '''\n",
    "    model_filepath = get_varargin(kwargs, 'file_path', config.PATH.BEST_MODEL_FILE)\n",
    "    logging.info('Load checkpoint from: {}'.format(model_filepath))\n",
    "    # ==== BEGIN ====\n",
    "    checkpoint = torch.load(model_filepath, map_location = config.HARDWARE.DEVICE) # e.g., trained on GPU, load on CPU\n",
    "    return checkpoint\n",
    "# =============================================================================\n",
    "def convert_state_dict(state_dict):\n",
    "#     Model saved in DataParallel return module. in state_dict. \n",
    "# This function remove 'module.' string in keywords\n",
    "    new_state_dict = {}\n",
    "    for key, val in state_dict.items():\n",
    "        if 'module' in key:\n",
    "            key = key.replace('module.','')\n",
    "        new_state_dict[key] = val\n",
    "    return new_state_dict"
   ]
  },
  {
   "cell_type": "markdown",
   "metadata": {},
   "source": [
    "# Design Model"
   ]
  },
  {
   "cell_type": "markdown",
   "metadata": {},
   "source": [
    "## Download pre-trained model"
   ]
  },
  {
   "cell_type": "code",
   "execution_count": 6,
   "metadata": {},
   "outputs": [],
   "source": [
    "# Specify dir to store pre-trained model\n",
    "# os.environ['TORCH_HOME'] = config.PATH.MODELS #setting the environment variable\n",
    "# alexnet = torchvision.models.alexnet(pretrained = True)\n",
    "# model = alexnet\n",
    "alexnet = torch.utils.model_zoo.load_url(config.MODEL.URL.ALEXNET, model_dir = config.PATH.MODELS)\n",
    "# logging.info('Model Name: {}. Model Summary:'.format(config.MODEL.NAME))\n",
    "# torchmodel_summary.logging_model_summary(model,(3,256,256))"
   ]
  },
  {
   "cell_type": "code",
   "execution_count": 7,
   "metadata": {},
   "outputs": [
    {
     "name": "stdout",
     "output_type": "stream",
     "text": [
      "20191021-06:58 | <ipython-input-7-df76d64d4ef5> - INFO - Model Name: pytorch_alexnet. Model Summary:\n",
      "20191021-06:58 | torchmodel_summary.py - INFO - ----------------------------------------------------------------\n",
      "20191021-06:58 | torchmodel_summary.py - INFO -         Layer (type)               Output Shape         Param #\n",
      "20191021-06:58 | torchmodel_summary.py - INFO - ================================================================\n",
      "20191021-06:58 | torchmodel_summary.py - INFO -             Conv2d-1           [-1, 20, 24, 24]             520\n",
      "20191021-06:58 | torchmodel_summary.py - INFO -             Conv2d-2             [-1, 50, 8, 8]          25,050\n",
      "20191021-06:58 | torchmodel_summary.py - INFO -             Linear-3                  [-1, 500]         400,500\n",
      "20191021-06:58 | torchmodel_summary.py - INFO -             Linear-4                   [-1, 10]           5,010\n",
      "20191021-06:58 | torchmodel_summary.py - INFO - ================================================================\n",
      "20191021-06:58 | torchmodel_summary.py - INFO - Total params: 431,080\n",
      "20191021-06:58 | torchmodel_summary.py - INFO - Trainable params: 431,080\n",
      "20191021-06:58 | torchmodel_summary.py - INFO - Non-trainable params: 0\n",
      "20191021-06:58 | torchmodel_summary.py - INFO - ----------------------------------------------------------------\n",
      "20191021-06:58 | torchmodel_summary.py - INFO - Input size (MB): 0.00\n",
      "20191021-06:58 | torchmodel_summary.py - INFO - Forward/backward pass size (MB): 0.12\n",
      "20191021-06:58 | torchmodel_summary.py - INFO - Params size (MB): 1.64\n",
      "20191021-06:58 | torchmodel_summary.py - INFO - Estimated Total Size (MB): 1.76\n",
      "20191021-06:58 | torchmodel_summary.py - INFO - ----------------------------------------------------------------\n"
     ]
    }
   ],
   "source": [
    "class Net(nn.Module):\n",
    "    def __init__(self):\n",
    "        super(Net, self).__init__()\n",
    "        self.conv1 = nn.Conv2d(1, 20, 5, 1)\n",
    "        self.conv2 = nn.Conv2d(20, 50, 5, 1)\n",
    "        self.fc1 = nn.Linear(4*4*50, 500)\n",
    "        self.fc2 = nn.Linear(500, 10)\n",
    "\n",
    "    def forward(self, x):\n",
    "        x = F.relu(self.conv1(x))\n",
    "        x = F.max_pool2d(x, 2, 2)\n",
    "        x = F.relu(self.conv2(x))\n",
    "        x = F.max_pool2d(x, 2, 2)\n",
    "        x = x.view(-1, 4*4*50)\n",
    "        x = F.relu(self.fc1(x))\n",
    "        x = self.fc2(x)\n",
    "        return F.log_softmax(x, dim=1)\n",
    "model = Net().to(config.HARDWARE.DEVICE)\n",
    "logging.info('Model Name: {}. Model Summary:'.format(config.MODEL.NAME))\n",
    "torchmodel_summary.logging_model_summary(model,(1,28,28))"
   ]
  },
  {
   "cell_type": "markdown",
   "metadata": {},
   "source": [
    "# Prepare Datasets"
   ]
  },
  {
   "cell_type": "code",
   "execution_count": 8,
   "metadata": {},
   "outputs": [
    {
     "name": "stdout",
     "output_type": "stream",
     "text": [
      "Downloading http://yann.lecun.com/exdb/mnist/train-images-idx3-ubyte.gz to pytorch_imagenet\\dataset\\MNIST\\raw\\train-images-idx3-ubyte.gz\n"
     ]
    },
    {
     "name": "stderr",
     "output_type": "stream",
     "text": [
      "100%|███████████████████████████▉| 9895936/9912422 [00:15<00:00, 732886.38it/s]"
     ]
    },
    {
     "name": "stdout",
     "output_type": "stream",
     "text": [
      "Extracting pytorch_imagenet\\dataset\\MNIST\\raw\\train-images-idx3-ubyte.gz\n",
      "Downloading http://yann.lecun.com/exdb/mnist/train-labels-idx1-ubyte.gz to pytorch_imagenet\\dataset\\MNIST\\raw\\train-labels-idx1-ubyte.gz\n"
     ]
    },
    {
     "name": "stderr",
     "output_type": "stream",
     "text": [
      "\n",
      "0it [00:00, ?it/s]\n",
      "  0%|                                                | 0/28881 [00:00<?, ?it/s]\n",
      " 57%|██████████████████▏             | 16384/28881 [00:00<00:00, 140216.65it/s]\n",
      "32768it [00:00, 78852.09it/s]                                                  "
     ]
    },
    {
     "name": "stdout",
     "output_type": "stream",
     "text": [
      "Extracting pytorch_imagenet\\dataset\\MNIST\\raw\\train-labels-idx1-ubyte.gz\n",
      "Downloading http://yann.lecun.com/exdb/mnist/t10k-images-idx3-ubyte.gz to pytorch_imagenet\\dataset\\MNIST\\raw\\t10k-images-idx3-ubyte.gz\n"
     ]
    },
    {
     "name": "stderr",
     "output_type": "stream",
     "text": [
      "\n",
      "0it [00:00, ?it/s]\n",
      "  0%|                                              | 0/1648877 [00:00<?, ?it/s]\n",
      "  1%|▎                             | 16384/1648877 [00:00<00:14, 111432.05it/s]\n",
      "  2%|▋                             | 40960/1648877 [00:00<00:12, 131628.15it/s]\n",
      "  6%|█▊                            | 98304/1648877 [00:00<00:09, 156917.44it/s]\n",
      "  9%|██▌                          | 147456/1648877 [00:00<00:08, 183278.34it/s]\n",
      " 13%|███▋                         | 212992/1648877 [00:01<00:06, 227567.88it/s]\n",
      " 16%|████▊                        | 270336/1648877 [00:01<00:05, 256159.48it/s]\n",
      " 20%|█████▉                       | 335872/1648877 [00:01<00:04, 269440.93it/s]\n",
      " 26%|███████▋                     | 434176/1648877 [00:01<00:03, 344362.34it/s]\n",
      " 30%|████████▋                    | 491520/1648877 [00:01<00:03, 369103.02it/s]\n",
      " 33%|█████████▋                   | 548864/1648877 [00:01<00:03, 362055.88it/s]\n",
      " 37%|██████████▊                  | 614400/1648877 [00:01<00:02, 406277.21it/s]\n",
      " 42%|████████████▏                | 696320/1648877 [00:02<00:02, 433502.85it/s]\n",
      " 47%|█████████████▋               | 778240/1648877 [00:02<00:01, 472804.51it/s]\n",
      " 51%|██████████████▋              | 835584/1648877 [00:02<00:01, 488012.06it/s]\n",
      " 54%|███████████████▋             | 892928/1648877 [00:02<00:01, 447704.93it/s]\n",
      " 58%|████████████████▊            | 958464/1648877 [00:02<00:01, 417798.44it/s]\n",
      " 64%|█████████████████▉          | 1056768/1648877 [00:02<00:01, 444979.28it/s]\n",
      " 70%|███████████████████▌        | 1155072/1648877 [00:02<00:00, 524220.86it/s]\n",
      " 74%|████████████████████▋       | 1220608/1648877 [00:03<00:00, 532535.94it/s]\n",
      " 78%|█████████████████████▊      | 1286144/1648877 [00:03<00:00, 496858.86it/s]\n",
      " 84%|███████████████████████▌    | 1384448/1648877 [00:03<00:00, 558864.92it/s]\n",
      " 91%|█████████████████████████▍  | 1499136/1648877 [00:03<00:00, 623077.52it/s]\n",
      " 98%|███████████████████████████▌| 1622016/1648877 [00:03<00:00, 654265.03it/s]\n",
      "1654784it [00:03, 453037.46it/s]                                               "
     ]
    },
    {
     "name": "stdout",
     "output_type": "stream",
     "text": [
      "Extracting pytorch_imagenet\\dataset\\MNIST\\raw\\t10k-images-idx3-ubyte.gz\n",
      "Downloading http://yann.lecun.com/exdb/mnist/t10k-labels-idx1-ubyte.gz to pytorch_imagenet\\dataset\\MNIST\\raw\\t10k-labels-idx1-ubyte.gz\n"
     ]
    },
    {
     "name": "stderr",
     "output_type": "stream",
     "text": [
      "\n",
      "0it [00:00, ?it/s]\n",
      "  0%|                                                 | 0/4542 [00:00<?, ?it/s]"
     ]
    },
    {
     "name": "stdout",
     "output_type": "stream",
     "text": [
      "Extracting pytorch_imagenet\\dataset\\MNIST\\raw\\t10k-labels-idx1-ubyte.gz\n",
      "Processing...\n",
      "Done!\n"
     ]
    }
   ],
   "source": [
    "transform=transforms.Compose([transforms.ToTensor(),\n",
    "                             transforms.Normalize((0.5,), (0.5,)),\n",
    "                             ])\n",
    "trainset = datasets.MNIST(config.PATH.DATASET, train = True, download = True, transform = transform)\n",
    "testset = datasets.MNIST(config.PATH.DATASET, train = False, download = True, transform = transform)\n",
    "train_loader = torch.utils.data.DataLoader(trainset, batch_size = config.TRAIN.BATCH_SIZE, \n",
    "                                           shuffle = config.TRAIN.SHUFFLE)\n",
    "test_loader = torch.utils.data.DataLoader(testset, batch_size = config.TRAIN.BATCH_SIZE, shuffle = True)"
   ]
  },
  {
   "cell_type": "markdown",
   "metadata": {},
   "source": [
    "# Train Model"
   ]
  },
  {
   "cell_type": "code",
   "execution_count": 9,
   "metadata": {},
   "outputs": [],
   "source": [
    "def loss_func(pred, target):\n",
    "#     Modify this function to compute loss for training\n",
    "    loss = F.nll_loss(pred, target) # Negative loglikelihood function\n",
    "    return loss\n",
    "# =============================================================================\n",
    "def train_model(config, model, train_loader, epoch, **kwargs):\n",
    "    '''\n",
    "    Train model\n",
    "    '''\n",
    "    device = get_varargin(kwargs, 'device', config.HARDWARE.DEVICE)\n",
    "    default_optimizer = optim.SGD(model.parameters(), lr = config.TRAIN.LR, momentum = config.TRAIN.MOMENTUM)\n",
    "    optimizer = get_varargin(kwargs, 'optimizer', default_optimizer)\n",
    "#     Switch model to training mode\n",
    "    model.train()\n",
    "#     logging parameters\n",
    "    nb_loops = len(train_loader)\n",
    "    start_time = time.time()\n",
    "    tick_time = time.time()\n",
    "    for batch_idx, (train_data, target) in enumerate(train_loader):\n",
    "        train_data, target = train_data.to(device), target.to(device)\n",
    "        optimizer.zero_grad()\n",
    "        output = model(train_data)\n",
    "#         Backprop\n",
    "        loss = loss_func(output, target)\n",
    "        loss.backward()\n",
    "        optimizer.step()\n",
    "        # measure elapsed time\n",
    "        batch_time = time.time() - tick_time\n",
    "        elapsed_time = convert_elapsedTime(time.time() - start_time)\n",
    "        tick_time = time.time()\n",
    "        if (batch_idx+1) % np.floor((config.TRAIN.LOG_INTERVAL*nb_loops/100)) == 0:\n",
    "            msg = 'Epoch: [{0}][{1}/{2}->{3}%]\\t' \\\n",
    "            'Elapsed: {hours:0>2}:{mins:0>2}:{secs:0>2}s \\t' \\\n",
    "            'Loss {loss:.4f}\\t'.format(\n",
    "                epoch, batch_idx, nb_loops, int(100*batch_idx/nb_loops),\n",
    "                hours = int(elapsed_time.hours), mins = int(elapsed_time.mins), secs = int(elapsed_time.secs),\n",
    "                loss = loss)\n",
    "            logging.info(msg)  \n",
    "#   Compute train_loss, train_acc\n",
    "    model.eval()\n",
    "    train_loss = 0\n",
    "    train_acc = 0\n",
    "    with torch.no_grad():\n",
    "        for data, target in train_loader:\n",
    "            data, target = data.to(device), target.to(device)\n",
    "            output = model(data)\n",
    "            train_loss += F.nll_loss(output, target, reduction='sum').item()\n",
    "            pred = output.argmax(dim=1, keepdim=True) # get the index of the max log-probability\n",
    "            train_acc += pred.eq(target.view_as(pred)).sum().item()\n",
    "    train_loss /= len(train_loader.dataset)\n",
    "    train_acc /= len(train_loader.dataset)\n",
    "#     Logging info\n",
    "    msg = 'Epoch: [{0}]\\t' \\\n",
    "            'loss: {loss:.4f}\\t'\\\n",
    "            'acc: {acc:.3f}\\t'.format(\n",
    "                epoch, \n",
    "                loss = train_loss,\n",
    "                acc = train_acc)\n",
    "    logging.info(msg)\n",
    "    return train_loss, train_acc"
   ]
  },
  {
   "cell_type": "markdown",
   "metadata": {},
   "source": [
    "# Test Model"
   ]
  },
  {
   "cell_type": "code",
   "execution_count": 10,
   "metadata": {},
   "outputs": [],
   "source": [
    "def test_model(config, model, test_loader, epoch, **kwargs):\n",
    "    \"\"\"\n",
    "    Evaluate model\n",
    "    \"\"\"\n",
    "    device = get_varargin(kwargs, 'device', config.HARDWARE.DEVICE)\n",
    "    model.eval()\n",
    "    val_loss = 0\n",
    "    val_acc = 0\n",
    "    with torch.no_grad():\n",
    "        for data, target in test_loader:\n",
    "            data, target = data.to(device), target.to(device)\n",
    "            output = model(data)\n",
    "            val_loss += F.nll_loss(output, target, reduction='sum').item()\n",
    "            pred = output.argmax(dim=1, keepdim=True) # get the index of the max log-probability\n",
    "            val_acc += pred.eq(target.view_as(pred)).sum().item()\n",
    "    val_loss /= len(test_loader.dataset)\n",
    "    val_acc /= len(test_loader.dataset)\n",
    "    msg = 'Epoch: [{0}]\\t' \\\n",
    "            'val_loss: {loss:.4f}\\t'\\\n",
    "            'val_acc: {acc:.3f}\\t'.format(\n",
    "                epoch, \n",
    "                loss = val_loss,\n",
    "                acc = val_acc)\n",
    "    logging.info(msg)\n",
    "    return val_loss, val_acc"
   ]
  },
  {
   "cell_type": "code",
   "execution_count": 21,
   "metadata": {},
   "outputs": [
    {
     "name": "stdout",
     "output_type": "stream",
     "text": [
      "20190926-10:49 | <ipython-input-21-447cd8fe50f5> - INFO - Model Name: DNN_model. Model Summary:\n",
      "20190926-10:49 | torchmodel_summary.py - INFO - ----------------------------------------------------------------\n",
      "20190926-10:49 | torchmodel_summary.py - INFO -         Layer (type)               Output Shape         Param #\n",
      "20190926-10:49 | torchmodel_summary.py - INFO - ================================================================\n",
      "20190926-10:49 | torchmodel_summary.py - INFO -             Conv2d-1           [-1, 20, 24, 24]             520\n",
      "20190926-10:49 | torchmodel_summary.py - INFO -             Conv2d-2             [-1, 50, 8, 8]          25,050\n",
      "20190926-10:49 | torchmodel_summary.py - INFO -             Linear-3                  [-1, 500]         400,500\n",
      "20190926-10:49 | torchmodel_summary.py - INFO -             Linear-4                   [-1, 10]           5,010\n",
      "20190926-10:49 | torchmodel_summary.py - INFO - ================================================================\n",
      "20190926-10:49 | torchmodel_summary.py - INFO - Total params: 431,080\n",
      "20190926-10:49 | torchmodel_summary.py - INFO - Trainable params: 431,080\n",
      "20190926-10:49 | torchmodel_summary.py - INFO - Non-trainable params: 0\n",
      "20190926-10:49 | torchmodel_summary.py - INFO - ----------------------------------------------------------------\n",
      "20190926-10:49 | torchmodel_summary.py - INFO - Input size (MB): 0.00\n",
      "20190926-10:49 | torchmodel_summary.py - INFO - Forward/backward pass size (MB): 0.12\n",
      "20190926-10:49 | torchmodel_summary.py - INFO - Params size (MB): 1.64\n",
      "20190926-10:49 | torchmodel_summary.py - INFO - Estimated Total Size (MB): 1.76\n",
      "20190926-10:49 | torchmodel_summary.py - INFO - ----------------------------------------------------------------\n",
      "20190926-10:49 | <ipython-input-21-447cd8fe50f5> - INFO - Load pre-trained model\n",
      "20190926-10:49 | <ipython-input-20-d412109fb392> - INFO - Load checkpoint from: dnn_project\\logs\\DNN_model-checkpoint-best.pth.tar\n",
      "20190926-10:49 | <ipython-input-20-d412109fb392> - INFO - DONE: load_checkpoint.\tElapsed Time: 8.02ms\t\n",
      "20190926-10:49 | <ipython-input-20-d412109fb392> - INFO - Load pre-trained history file: dnn_project\\logs\\DNN_model-hist.pckl\n",
      "20190926-10:49 | <ipython-input-20-d412109fb392> - INFO - DONE: loadHistory.\tElapsed Time: 1.00ms\t\n",
      "20190926-10:49 | <ipython-input-9-c616dc82c53a> - INFO - Epoch: [0][186/938->19%]\tElapsed: 00:00:03s \tLoss 0.0122\t\n",
      "20190926-10:49 | <ipython-input-9-c616dc82c53a> - INFO - Epoch: [0][373/938->39%]\tElapsed: 00:00:06s \tLoss 0.0282\t\n",
      "20190926-10:49 | <ipython-input-9-c616dc82c53a> - INFO - Epoch: [0][560/938->59%]\tElapsed: 00:00:09s \tLoss 0.0009\t\n",
      "20190926-10:49 | <ipython-input-9-c616dc82c53a> - INFO - Epoch: [0][747/938->79%]\tElapsed: 00:00:13s \tLoss 0.0449\t\n",
      "20190926-10:49 | <ipython-input-9-c616dc82c53a> - INFO - Epoch: [0][934/938->99%]\tElapsed: 00:00:16s \tLoss 0.0030\t\n",
      "20190926-10:49 | <ipython-input-9-c616dc82c53a> - INFO - Epoch: [0]\tloss: 0.0093\tacc: 0.998\t\n",
      "20190926-10:49 | <ipython-input-10-1a0a3b37080d> - INFO - Epoch: [0]\tval_loss: 0.0250\tval_acc: 0.992\t\n",
      "20190926-10:49 | <ipython-input-20-d412109fb392> - INFO - Saving history file: dnn_project\\logs\\DNN_model-hist.pckl\n",
      "20190926-10:49 | <ipython-input-20-d412109fb392> - INFO - DONE: saveHistory.\tElapsed Time: 5.01ms\t\n",
      "20190926-10:49 | <ipython-input-20-d412109fb392> - INFO - Save lastest model to: dnn_project\\logs\\DNN_model-checkpoint-latest.pth.tar\n",
      "20190926-10:49 | <ipython-input-20-d412109fb392> - INFO - DONE: save_checkpoint.\tElapsed Time: 11.03ms\t\n",
      "20190926-10:49 | GPUtils.py - INFO - GPUs Usage Profile:\n",
      "20190926-10:49 | GPUtils.py - INFO - ----------------------------------------------------------------------------\n",
      "20190926-10:49 | GPUtils.py - INFO - ID       Name          GPU_Load(%)     Memory_Usages(%)   [Used]/[Total](MB)\n",
      "20190926-10:49 | GPUtils.py - INFO - ============================================================================\n",
      "20190926-10:49 | GPUtils.py - INFO - 0 GeForce GTX 1060 6GB              12%              25%            1558/6144MB\n",
      "20190926-10:49 | GPUtils.py - INFO - 1 GeForce GTX 1060 6GB              12%              12%             712/6144MB\n",
      "20190926-10:49 | <ipython-input-21-447cd8fe50f5> - INFO - Epoch:[0/1]\tElapsed: 00:00:31s \tloss: 0.0093\tacc: 0.998\tval_loss: 0.0250\tval_acc: 0.992\t\n",
      "20190926-10:49 | <ipython-input-9-c616dc82c53a> - INFO - Epoch: [1][186/938->19%]\tElapsed: 00:00:03s \tLoss 0.0013\t\n",
      "20190926-10:49 | <ipython-input-9-c616dc82c53a> - INFO - Epoch: [1][373/938->39%]\tElapsed: 00:00:06s \tLoss 0.0074\t\n",
      "20190926-10:49 | <ipython-input-9-c616dc82c53a> - INFO - Epoch: [1][560/938->59%]\tElapsed: 00:00:09s \tLoss 0.0102\t\n",
      "20190926-10:49 | <ipython-input-9-c616dc82c53a> - INFO - Epoch: [1][747/938->79%]\tElapsed: 00:00:13s \tLoss 0.0096\t\n",
      "20190926-10:49 | <ipython-input-9-c616dc82c53a> - INFO - Epoch: [1][934/938->99%]\tElapsed: 00:00:16s \tLoss 0.0055\t\n",
      "20190926-10:50 | <ipython-input-9-c616dc82c53a> - INFO - Epoch: [1]\tloss: 0.0083\tacc: 0.998\t\n",
      "20190926-10:50 | <ipython-input-10-1a0a3b37080d> - INFO - Epoch: [1]\tval_loss: 0.0231\tval_acc: 0.992\t\n",
      "20190926-10:50 | <ipython-input-20-d412109fb392> - INFO - Saving history file: dnn_project\\logs\\DNN_model-hist.pckl\n",
      "20190926-10:50 | <ipython-input-20-d412109fb392> - INFO - DONE: saveHistory.\tElapsed Time: 5.01ms\t\n",
      "20190926-10:50 | <ipython-input-20-d412109fb392> - INFO - Save lastest model to: dnn_project\\logs\\DNN_model-checkpoint-latest.pth.tar\n",
      "20190926-10:50 | <ipython-input-20-d412109fb392> - INFO - Val_acc improved. Save best model to: dnn_project\\logs\\DNN_model-checkpoint-best.pth.tar\n",
      "20190926-10:50 | <ipython-input-20-d412109fb392> - INFO - DONE: save_checkpoint.\tElapsed Time: 20.05ms\t\n",
      "20190926-10:50 | GPUtils.py - INFO - GPUs Usage Profile:\n",
      "20190926-10:50 | GPUtils.py - INFO - ----------------------------------------------------------------------------\n",
      "20190926-10:50 | GPUtils.py - INFO - ID       Name          GPU_Load(%)     Memory_Usages(%)   [Used]/[Total](MB)\n",
      "20190926-10:50 | GPUtils.py - INFO - ============================================================================\n",
      "20190926-10:50 | GPUtils.py - INFO - 0 GeForce GTX 1060 6GB              12%              25%            1560/6144MB\n",
      "20190926-10:50 | GPUtils.py - INFO - 1 GeForce GTX 1060 6GB               8%              12%             712/6144MB\n",
      "20190926-10:50 | <ipython-input-21-447cd8fe50f5> - INFO - Epoch:[1/1]\tElapsed: 00:01:02s \tloss: 0.0083\tacc: 0.998\tval_loss: 0.0231\tval_acc: 0.992\t\n",
      "20190926-10:50 | <ipython-input-20-d412109fb392> - INFO - DONE: train_main.\tElapsed Time: 62545.31ms\t\n"
     ]
    }
   ],
   "source": [
    "@timeit\n",
    "def train_main(**kwargs):\n",
    "#     Load model\n",
    "    model = Net().to(config.HARDWARE.DEVICE)\n",
    "    optimizer = optim.SGD(model.parameters(), lr = config.TRAIN.LR, momentum = config.TRAIN.MOMENTUM)\n",
    "    logging.info('Model Name: {}. Model Summary:'.format(config.MODEL.NAME))\n",
    "    torchmodel_summary.logging_model_summary(model,(1,28,28))\n",
    "#     Options\n",
    "    re_train = get_varargin(kwargs, 're_train', config.TRAIN.RETRAIN)\n",
    "    nb_epoch = get_varargin(kwargs, 'nb_epoch', config.TRAIN.NB_EPOCH)    \n",
    "    device = get_varargin(kwargs, 'device', config.HARDWARE.DEVICE)\n",
    "    if re_train is True and os.path.isfile(config.PATH.LATEST_MODEL_FILE):\n",
    "        logging.info('Load pre-trained model')\n",
    "        ckpts_dict = load_checkpoint()\n",
    "        model.load_state_dict(convert_state_dict(ckpts_dict['model_state_dict']))\n",
    "        optimizer.load_state_dict(ckpts_dict['optimizer_state_dict'])\n",
    "        history = loadHistory(config.PATH.HISTORY_FILE)\n",
    "    else:\n",
    "        logging.info('Start training model from scratch')        \n",
    "        history = edict()      \n",
    "#     Parallel data\n",
    "    if config.HARDWARE.NB_GPUS > 1:\n",
    "        model = nn.DataParallel(model)\n",
    "        model.to(device)\n",
    "    start_time = time.time()\n",
    "    for epoch in range(nb_epoch):\n",
    "        current_history = edict()\n",
    "        loss, acc = train_model(config, model, train_loader, epoch, optimizer = optimizer, device = device)\n",
    "        val_loss, val_acc = test_model(config, model, test_loader, epoch, device = device)\n",
    "        current_history.loss = loss\n",
    "        current_history.acc = acc\n",
    "        current_history.val_loss = val_loss\n",
    "        current_history.val_acc = val_acc\n",
    "        history = update_history([history, current_history])\n",
    "        improved_status = True\n",
    "        if (len(history.val_acc) > 1) and (history.val_acc[-1] < history.val_acc[-2]):\n",
    "            improved_status = False\n",
    "        saveHistory(config.PATH.HISTORY_FILE, history)\n",
    "        #   Save checkpoint\n",
    "        save_checkpoint(model, optimizer, improved_status = improved_status)\n",
    "    #     Log progress\n",
    "        GPUtils.logGPU_usage()\n",
    "        elapsed_time = convert_elapsedTime(time.time() - start_time)\n",
    "        msg = 'Epoch:[{0}/{1}]\\t' \\\n",
    "        'Elapsed: {hours:0>2}:{mins:0>2}:{secs:0>2}s \\t' \\\n",
    "        'loss: {loss:.4f}\\t' \\\n",
    "        'acc: {acc:.3f}\\t' \\\n",
    "        'val_loss: {val_loss:.4f}\\t' \\\n",
    "        'val_acc: {val_acc:.3f}\\t'.format(\n",
    "            epoch, nb_epoch-1,\n",
    "            hours = int(elapsed_time.hours), mins = int(elapsed_time.mins), secs = int(elapsed_time.secs),\n",
    "            loss = loss, acc = acc,\n",
    "            val_loss = val_loss, val_acc = val_acc)\n",
    "        logging.info(msg)\n",
    "        \n",
    "train_main(re_train = True, nb_epoch = 2)"
   ]
  },
  {
   "cell_type": "markdown",
   "metadata": {},
   "source": [
    "# Validate Model"
   ]
  },
  {
   "cell_type": "code",
   "execution_count": 13,
   "metadata": {},
   "outputs": [
    {
     "name": "stdout",
     "output_type": "stream",
     "text": [
      "20190926-10:29 | <ipython-input-5-b017201b74c0> - INFO - Load pre-trained history file: dnn_project\\logs\\DNN_model-hist.pckl\n",
      "20190926-10:29 | <ipython-input-5-b017201b74c0> - INFO - DONE: loadHistory.\tElapsed Time: 1.00ms\t\n"
     ]
    },
    {
     "data": {
      "image/png": "[encoded data removed]",
      "text/plain": [
       "<Figure size 720x360 with 2 Axes>"
      ]
     },
     "metadata": {
      "needs_background": "light"
     },
     "output_type": "display_data"
    }
   ],
   "source": [
    "def plt_model_loss(history):\n",
    "    \"\"\"Generate plot for model loss and accuracy from training history\n",
    "    Args:\n",
    "        history ([type]): [description] \n",
    "    \"\"\"\n",
    "    # save_opt = get_varargin(kwargs, 'save', False)\n",
    "    # figname = get_varargin(kwargs, 'figname', '{}-model_loss.png'.format(todaystr))\n",
    "     \n",
    "    fig = plt.figure(figsize = (10,5))\n",
    "    # Loss \n",
    "    ax = fig.add_subplot(121)\n",
    "    plt.plot(history['loss'], color = 'k' ) # Training\n",
    "    plt.plot(history['val_loss'], color = 'r') # Validation\n",
    "    plt.title('Model Loss')\n",
    "    plt.ylabel('Loss')\n",
    "    plt.xlabel('Epoch')\n",
    "    plt.legend(['Train', 'Test'], loc='upper right')\n",
    "    # Accuracy\n",
    "    ax = fig.add_subplot(122)\n",
    "    plt.plot(history['acc'], color = 'k')\n",
    "    plt.plot(history['val_acc'], color = 'r')\n",
    "    # Annotation\n",
    "    plt.title('Model Accuracy')\n",
    "    plt.ylabel('Accuracy')\n",
    "    plt.xlabel('Epoch')\n",
    "history = loadHistory(config.PATH.HISTORY_FILE)\n",
    "plt_model_loss(history)"
   ]
  },
  {
   "cell_type": "code",
   "execution_count": 105,
   "metadata": {},
   "outputs": [
    {
     "data": {
      "image/png": "[encoded data removed]",
      "text/plain": [
       "<Figure size 576x576 with 64 Axes>"
      ]
     },
     "metadata": {
      "needs_background": "light"
     },
     "output_type": "display_data"
    }
   ],
   "source": [
    "dataiter = iter(train_loader)\n",
    "images, labels = dataiter.next()\n",
    "nb_images = images.shape[0]\n",
    "figure = plt.figure(figsize = (8,8))\n",
    "nb_cols = 10\n",
    "nb_rows = np.ceil(nb_images/nb_cols)\n",
    "for idx in range(nb_images):\n",
    "    plt.subplot(nb_rows, nb_cols, idx+1)\n",
    "    plt.axis('off')\n",
    "    plt.imshow(images[idx].numpy().squeeze(), cmap='gray_r')"
   ]
  },
  {
   "cell_type": "code",
   "execution_count": 31,
   "metadata": {},
   "outputs": [
    {
     "name": "stdout",
     "output_type": "stream",
     "text": [
      "20190926-10:58 | <ipython-input-20-d412109fb392> - INFO - Load checkpoint from: dnn_project\\logs\\DNN_model-checkpoint-best.pth.tar\n",
      "20190926-10:58 | <ipython-input-20-d412109fb392> - INFO - DONE: load_checkpoint.\tElapsed Time: 7.02ms\t\n",
      "Test Accuray: 0.984375. Numbers of Correct Prediction: 63/64\n"
     ]
    },
    {
     "data": {
      "image/png": "[encoded data removed]",
      "text/plain": [
       "<Figure size 720x720 with 64 Axes>"
      ]
     },
     "metadata": {
      "needs_background": "light"
     },
     "output_type": "display_data"
    }
   ],
   "source": [
    "model = Net().to(config.HARDWARE.DEVICE)\n",
    "optimizer = optim.SGD(model.parameters(), lr = config.TRAIN.LR, momentum = config.TRAIN.MOMENTUM)\n",
    "ckpts_dict = load_checkpoint()\n",
    "model.load_state_dict(convert_state_dict(ckpts_dict['model_state_dict']))\n",
    "optimizer.load_state_dict(ckpts_dict['optimizer_state_dict'])\n",
    "images, labels = next(iter(test_loader))\n",
    "model.eval()\n",
    "acc = 0\n",
    "with torch.no_grad():\n",
    "    outputs = model(images.to(config.HARDWARE.DEVICE))\n",
    "    preds = outputs.argmax(dim=1, keepdim = True).cpu().numpy().flatten()\n",
    "labels = labels.cpu().numpy().flatten()\n",
    "acc = np.sum(preds == labels)/len(labels)\n",
    "print('Test Accuray: {}. Numbers of Correct Prediction: {}/{}'.format(acc, np.sum(preds==labels),len(labels)))\n",
    "figure = plt.figure(figsize = (10,10))\n",
    "nb_cols = 10\n",
    "nb_rows = np.ceil(nb_images/nb_cols)\n",
    "for idx, (img, pred,target) in enumerate(zip(images,preds, labels)):\n",
    "    plt.subplot(nb_rows, nb_cols, idx+1)\n",
    "    plt.axis('off')\n",
    "    plt.imshow(img.numpy().squeeze(), cmap='gray_r')\n",
    "    color = 'k'\n",
    "    if pred != target:\n",
    "        color = 'r'\n",
    "    plt.title('Pred:{}'.format(pred), color = color)"
   ]
  },
  {
   "cell_type": "code",
   "execution_count": 23,
   "metadata": {},
   "outputs": [
    {
     "name": "stdout",
     "output_type": "stream",
     "text": [
      "Test Accuray: 0.9923. Numbers of Prediction: 10000\n"
     ]
    },
    {
     "data": {
      "image/png": "[encoded data removed]",
      "text/plain": [
       "<Figure size 432x432 with 2 Axes>"
      ]
     },
     "metadata": {
      "needs_background": "light"
     },
     "output_type": "display_data"
    }
   ],
   "source": [
    "def plt_confusion_matrix(predicts, targets, **kwargs):\n",
    "    \"\"\"Plot confusion matrix for Y_label vs Y_predict\n",
    "    \n",
    "    Args:\n",
    "        Y_label ([type]): Data label\n",
    "        Y_predict ([type]): Prediction from model\n",
    "    \"\"\"\n",
    "    save_opt = get_varargin(kwargs, 'save', False)\n",
    "    figname = get_varargin(kwargs, 'figname', '{}-model_loss.png'.format(todaystr))\n",
    "\n",
    "    fig = plt.figure(figsize = (6,6))\n",
    "    cm = confusion_matrix(y_true = targets, \n",
    "                        y_pred = predicts)\n",
    "    sns.heatmap(cm, annot = True, linewidth = 0.2, \n",
    "                cmap = sns.color_palette(\"coolwarm\", 10), fmt = 'd')\n",
    "\n",
    "\n",
    "val_loader = torch.utils.data.DataLoader(testset, batch_size = len(testset), shuffle = True)\n",
    "images, labels = next(iter(val_loader))\n",
    "model.eval()\n",
    "acc = 0\n",
    "with torch.no_grad():\n",
    "    outputs = model(images.to(config.HARDWARE.DEVICE))\n",
    "    preds = outputs.argmax(dim=1, keepdim = True).cpu().numpy().flatten()\n",
    "labels = labels.cpu().numpy().flatten()\n",
    "acc = np.sum(preds == labels)/len(labels)\n",
    "print('Test Accuray: {}. Numbers of Prediction: {}'.format(acc, len(labels)))\n",
    "plt_confusion_matrix(preds, labels)"
   ]
  },
  {
   "cell_type": "code",
   "execution_count": null,
   "metadata": {},
   "outputs": [],
   "source": []
  }
 ],
 "metadata": {
  "kernelspec": {
   "display_name": "Python 3",
   "language": "python",
   "name": "python3"
  },
  "language_info": {
   "codemirror_mode": {
    "name": "ipython",
    "version": 3
   },
   "file_extension": ".py",
   "mimetype": "text/x-python",
   "name": "python",
   "nbconvert_exporter": "python",
   "pygments_lexer": "ipython3",
   "version": "3.7.4"
  }
 },
 "nbformat": 4,
 "nbformat_minor": 4
}
