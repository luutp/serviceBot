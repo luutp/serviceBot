{
 "cells": [
  {
   "cell_type": "code",
   "execution_count": 2,
   "metadata": {},
   "outputs": [],
   "source": [
    "#!/usr/bin/python\n",
    "%load_ext autoreload\n",
    "%autoreload 2\n",
    "import warnings\n",
    "warnings.filterwarnings('ignore')\n",
    "from IPython.core.debugger import set_trace"
   ]
  },
  {
   "cell_type": "code",
   "execution_count": 5,
   "metadata": {},
   "outputs": [],
   "source": [
    "from __future__ import print_function\n",
    "# IMPORT PACKAGES\n",
    "import warnings\n",
    "warnings.filterwarnings('ignore')\n",
    "import os, glob, sys, inspect\n",
    "import time\n",
    "from datetime import datetime\n",
    "import warnings, logging\n",
    "from pathlib import Path\n",
    "import pandas as pd\n",
    "import numpy as np\n",
    "import json\n",
    "import matplotlib.pyplot as plt\n",
    "from utils import get_varargin, timeit\n",
    "import logger_utils\n",
    "import fileIO_utils\n",
    "# SETUP\n",
    "logger_utils.logging_setup()\n",
    "#\tWorking Directories\n",
    "current_dir = os.getcwd()\n",
    "user_dir = os.path.expanduser('~')\n",
    "# script_dir = os.path.dirname(os.path.abspath(__file__))\n",
    "import PIL"
   ]
  },
  {
   "cell_type": "code",
   "execution_count": 11,
   "metadata": {},
   "outputs": [],
   "source": [
    "def img_resize(imgpath, **kwargs):\n",
    "    width = get_varargin(kwargs, 'width', None)\n",
    "    height = get_varargin(kwargs, 'height', None)\n",
    "#     Load image\n",
    "    img = PIL.Image.open(imgpath)\n",
    "    logging.info('Image path: {}'.format(imgpath))\n",
    "    logging.info('Image size: {}'.format(img.size))\n",
    "    if width is not None:\n",
    "        scale_factor = width/img.size[0]\n",
    "        height = int((float(img.size[1]) * float(scale_factor)))\n",
    "    else:\n",
    "        scale_factor = height/img.size[1]\n",
    "        width = int((float(img.size[0]) * float(scale_factor)))\n",
    "    logging.info('New size: ({}, {})'.format(width,height))\n",
    "    img = img.resize((width, height), PIL.Image.ANTIALIAS)\n",
    "    img.save(imgpath)\n",
    "    "
   ]
  },
  {
   "cell_type": "code",
   "execution_count": 13,
   "metadata": {},
   "outputs": [
    {
     "name": "stdout",
     "output_type": "stream",
     "text": [
      "20191030-11:34 | <ipython-input-11-f0f963c2ef66> - INFO - Image path: /home/phatluu/serviceBot/datasets/via_sample/train/wikimedia_death_of_socrates.jpg\n",
      "20191030-11:34 | <ipython-input-11-f0f963c2ef66> - INFO - Image size: (1280, 841)\n",
      "20191030-11:34 | <ipython-input-11-f0f963c2ef66> - INFO - New size: (600, 394)\n"
     ]
    }
   ],
   "source": [
    "imgpath = Path(user_dir) / 'serviceBot/datasets/via_sample/train/wikimedia_death_of_socrates.jpg'\n",
    "# img = PIL.Image.open(imgpath)\n",
    "# print(img.size)\n",
    "img_resize(imgpath, width = 600)"
   ]
  },
  {
   "cell_type": "code",
   "execution_count": null,
   "metadata": {},
   "outputs": [],
   "source": []
  }
 ],
 "metadata": {
  "kernelspec": {
   "display_name": "Python 3",
   "language": "python",
   "name": "python3"
  },
  "language_info": {
   "codemirror_mode": {
    "name": "ipython",
    "version": 3
   },
   "file_extension": ".py",
   "mimetype": "text/x-python",
   "name": "python",
   "nbconvert_exporter": "python",
   "pygments_lexer": "ipython3",
   "version": "3.7.4"
  }
 },
 "nbformat": 4,
 "nbformat_minor": 4
}
