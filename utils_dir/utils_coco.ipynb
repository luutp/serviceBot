{
 "cells": [
  {
   "cell_type": "code",
   "execution_count": 1,
   "metadata": {},
   "outputs": [],
   "source": [
    "#!/usr/bin/python\n",
    "%load_ext autoreload\n",
    "%autoreload 2\n",
    "import warnings\n",
    "warnings.filterwarnings('ignore')\n",
    "from IPython.core.debugger import set_trace"
   ]
  },
  {
   "cell_type": "code",
   "execution_count": 66,
   "metadata": {},
   "outputs": [],
   "source": [
    "from __future__ import print_function\n",
    "# IMPORT PACKAGES\n",
    "import warnings\n",
    "warnings.filterwarnings('ignore')\n",
    "import os, glob, sys, inspect\n",
    "import time\n",
    "from datetime import datetime\n",
    "import warnings, logging\n",
    "import pandas as pd\n",
    "import numpy as np\n",
    "import json\n",
    "import matplotlib.pyplot as plt\n",
    "from utils import get_varargin, timeit\n",
    "import logger_utils\n",
    "import fileIO_utils\n",
    "# SETUP\n",
    "logger_utils.logging_setup()\n",
    "#\tWorking Directories\n",
    "current_dir = os.getcwd()\n",
    "user_dir = os.path.expanduser('~')\n",
    "# script_dir = os.path.dirname(os.path.abspath(__file__))"
   ]
  },
  {
   "cell_type": "code",
   "execution_count": 33,
   "metadata": {},
   "outputs": [
    {
     "name": "stdout",
     "output_type": "stream",
     "text": [
      "20191030-12:11 | coco_utils.py - INFO - Open file: C:\\Users\\212769892\\serviceBot\\Downloads\\coco_annotations.json\n"
     ]
    },
    {
     "data": {
      "text/plain": [
       "{'description': 'ImmersiveLimit Cigarette Butt Dataset',\n",
       " 'url': 'http://www.immersivelimit.com',\n",
       " 'version': '0.1',\n",
       " 'year': 2018,\n",
       " 'contributor': 'Adam Kelly',\n",
       " 'date_created': '2018/07/27'}"
      ]
     },
     "metadata": {},
     "output_type": "display_data"
    }
   ],
   "source": [
    "%autoreload 2\n",
    "import coco_utils\n",
    "coco_utils.main()"
   ]
  },
  {
   "cell_type": "code",
   "execution_count": 89,
   "metadata": {},
   "outputs": [
    {
     "name": "stdout",
     "output_type": "stream",
     "text": [
      "20191030-02:20 | coco_utils.py - INFO - Open file: C:\\Users\\212769892\\serviceBot\\datasets\\via_sample\\via_export_coco.json\n"
     ]
    }
   ],
   "source": [
    "json_filepath = os.path.join(os.path.join(user_dir, 'serviceBot\\\\datasets\\\\via_sample\\\\via_export_coco.json'))\n",
    "train_imgpath = os.path.join(os.path.join(user_dir, 'serviceBot\\\\datasets\\\\via_sample\\\\train'))\n",
    "coco_obj = coco_utils.coco_dataset(json_filepath = json_filepath, imgpath = train_imgpath)"
   ]
  },
  {
   "cell_type": "code",
   "execution_count": 86,
   "metadata": {},
   "outputs": [
    {
     "name": "stdout",
     "output_type": "stream",
     "text": [
      "{'year': 2019, 'version': '1', 'description': 'Exported using VGG Image Annotator (http://www.robots.ox.ac.uk/~vgg/software/via/)', 'contributor': '', 'url': 'http://www.robots.ox.ac.uk/~vgg/software/via/', 'date_created': 'Wed Oct 30 2019 14:00:13 GMT-0500 (Central Daylight Time)'}\n",
      "[{'id': 1, 'name': 'bird', 'supercategory': 'type'}, {'id': 2, 'name': 'human', 'supercategory': 'type'}, {'id': 3, 'name': 'cup', 'supercategory': 'type'}, {'id': 4, 'name': 'unknown', 'supercategory': 'type'}, {'id': 5, 'name': 'blur', 'supercategory': 'image_quality'}, {'id': 6, 'name': 'good_illumination', 'supercategory': 'image_quality'}, {'id': 7, 'name': 'frontal', 'supercategory': 'image_quality'}]\n"
     ]
    }
   ],
   "source": [
    "coco_obj.get_json_data(keys = ['info', 'categories'])"
   ]
  },
  {
   "cell_type": "code",
   "execution_count": 72,
   "metadata": {},
   "outputs": [
    {
     "name": "stdout",
     "output_type": "stream",
     "text": [
      "20191030-01:48 | coco_utils.py - INFO - Key not exist in coco json file: info\n"
     ]
    }
   ],
   "source": [
    "coco_obj.get_info()"
   ]
  },
  {
   "cell_type": "code",
   "execution_count": 82,
   "metadata": {},
   "outputs": [
    {
     "name": "stdout",
     "output_type": "stream",
     "text": [
      "[{'id': 1, 'name': 'bird', 'supercategory': 'type'}, {'id': 2, 'name': 'human', 'supercategory': 'type'}, {'id': 3, 'name': 'cup', 'supercategory': 'type'}, {'id': 4, 'name': 'unknown', 'supercategory': 'type'}, {'id': 5, 'name': 'blur', 'supercategory': 'image_quality'}, {'id': 6, 'name': 'good_illumination', 'supercategory': 'image_quality'}, {'id': 7, 'name': 'frontal', 'supercategory': 'image_quality'}]\n",
      "Number of Categories: 7\n"
     ]
    }
   ],
   "source": [
    "coco_obj.get_categories()"
   ]
  },
  {
   "cell_type": "code",
   "execution_count": 90,
   "metadata": {},
   "outputs": [
    {
     "name": "stdout",
     "output_type": "stream",
     "text": [
      "Number of Images: 2\n",
      "Example Image Info:\n",
      "\t{'id': 0, 'width': 600, 'height': 400, 'file_name': 'adutta_swan.jpg', 'license': 1, 'flickr_url': 'adutta_swan.jpg', 'coco_url': 'adutta_swan.jpg', 'date_captured': ''}\n"
     ]
    }
   ],
   "source": [
    "coco_img = coco_obj.get_images()"
   ]
  },
  {
   "cell_type": "code",
   "execution_count": 84,
   "metadata": {},
   "outputs": [
    {
     "name": "stdout",
     "output_type": "stream",
     "text": [
      "Number of Annotations: 4\n",
      "Example Annotations Info:\n",
      "\t{'id': 0, 'image_id': '0', 'segmentation': [116, 157, 94, 195, 176, 264, 343, 273, 383, 261, 385, 234, 369, 222, 406, 216, 398, 155, 364, 124, 310, 135, 297, 170, 304, 188, 244, 170, 158, 175], 'area': 46488, 'bbox': [94, 124, 312, 149], 'iscrowd': 0}\n"
     ]
    },
    {
     "data": {
      "text/plain": [
       "[{'id': 0,\n",
       "  'image_id': '0',\n",
       "  'segmentation': [116,\n",
       "   157,\n",
       "   94,\n",
       "   195,\n",
       "   176,\n",
       "   264,\n",
       "   343,\n",
       "   273,\n",
       "   383,\n",
       "   261,\n",
       "   385,\n",
       "   234,\n",
       "   369,\n",
       "   222,\n",
       "   406,\n",
       "   216,\n",
       "   398,\n",
       "   155,\n",
       "   364,\n",
       "   124,\n",
       "   310,\n",
       "   135,\n",
       "   297,\n",
       "   170,\n",
       "   304,\n",
       "   188,\n",
       "   244,\n",
       "   170,\n",
       "   158,\n",
       "   175],\n",
       "  'area': 46488,\n",
       "  'bbox': [94, 124, 312, 149],\n",
       "  'iscrowd': 0},\n",
       " {'id': 1,\n",
       "  'image_id': '1',\n",
       "  'segmentation': [174, 139, 282, 139, 282, 366, 174, 366],\n",
       "  'area': 24516,\n",
       "  'bbox': [174, 139, 108, 227],\n",
       "  'iscrowd': 0},\n",
       " {'id': 2,\n",
       "  'image_id': '1',\n",
       "  'segmentation': [347, 114, 438, 114, 438, 323, 347, 323],\n",
       "  'area': 19019,\n",
       "  'bbox': [347, 114, 91, 209],\n",
       "  'iscrowd': 0},\n",
       " {'id': 3,\n",
       "  'image_id': '1',\n",
       "  'segmentation': [333,\n",
       "   180,\n",
       "   332.935,\n",
       "   181.046,\n",
       "   332.742,\n",
       "   182.084,\n",
       "   332.421,\n",
       "   183.106,\n",
       "   331.975,\n",
       "   184.104,\n",
       "   331.407,\n",
       "   185.071,\n",
       "   330.722,\n",
       "   186,\n",
       "   329.926,\n",
       "   186.883,\n",
       "   329.023,\n",
       "   187.713,\n",
       "   328.021,\n",
       "   188.485,\n",
       "   326.927,\n",
       "   189.193,\n",
       "   325.751,\n",
       "   189.83,\n",
       "   324.5,\n",
       "   190.392,\n",
       "   323.185,\n",
       "   190.876,\n",
       "   321.814,\n",
       "   191.276,\n",
       "   320.4,\n",
       "   191.591,\n",
       "   318.952,\n",
       "   191.818,\n",
       "   317.482,\n",
       "   191.954,\n",
       "   316,\n",
       "   192,\n",
       "   314.518,\n",
       "   191.954,\n",
       "   313.048,\n",
       "   191.818,\n",
       "   311.6,\n",
       "   191.591,\n",
       "   310.186,\n",
       "   191.276,\n",
       "   308.815,\n",
       "   190.876,\n",
       "   307.5,\n",
       "   190.392,\n",
       "   306.249,\n",
       "   189.83,\n",
       "   305.073,\n",
       "   189.193,\n",
       "   303.979,\n",
       "   188.485,\n",
       "   302.977,\n",
       "   187.713,\n",
       "   302.074,\n",
       "   186.883,\n",
       "   301.278,\n",
       "   186,\n",
       "   300.593,\n",
       "   185.071,\n",
       "   300.025,\n",
       "   184.104,\n",
       "   299.579,\n",
       "   183.106,\n",
       "   299.258,\n",
       "   182.084,\n",
       "   299.065,\n",
       "   181.046,\n",
       "   299,\n",
       "   180,\n",
       "   299.065,\n",
       "   178.954,\n",
       "   299.258,\n",
       "   177.916,\n",
       "   299.579,\n",
       "   176.894,\n",
       "   300.025,\n",
       "   175.896,\n",
       "   300.593,\n",
       "   174.929,\n",
       "   301.278,\n",
       "   174,\n",
       "   302.074,\n",
       "   173.117,\n",
       "   302.977,\n",
       "   172.287,\n",
       "   303.979,\n",
       "   171.515,\n",
       "   305.073,\n",
       "   170.807,\n",
       "   306.249,\n",
       "   170.17,\n",
       "   307.5,\n",
       "   169.608,\n",
       "   308.815,\n",
       "   169.124,\n",
       "   310.186,\n",
       "   168.724,\n",
       "   311.6,\n",
       "   168.409,\n",
       "   313.048,\n",
       "   168.182,\n",
       "   314.518,\n",
       "   168.046,\n",
       "   316,\n",
       "   168,\n",
       "   317.482,\n",
       "   168.046,\n",
       "   318.952,\n",
       "   168.182,\n",
       "   320.4,\n",
       "   168.409,\n",
       "   321.814,\n",
       "   168.724,\n",
       "   323.185,\n",
       "   169.124,\n",
       "   324.5,\n",
       "   169.608,\n",
       "   325.751,\n",
       "   170.17,\n",
       "   326.927,\n",
       "   170.807,\n",
       "   328.021,\n",
       "   171.515,\n",
       "   329.023,\n",
       "   172.287,\n",
       "   329.926,\n",
       "   173.117,\n",
       "   330.722,\n",
       "   174,\n",
       "   331.407,\n",
       "   174.929,\n",
       "   331.975,\n",
       "   175.896,\n",
       "   332.421,\n",
       "   176.894,\n",
       "   332.742,\n",
       "   177.916,\n",
       "   332.935,\n",
       "   178.954],\n",
       "  'area': 816,\n",
       "  'bbox': [299, 168, 34, 24],\n",
       "  'iscrowd': 0}]"
      ]
     },
     "execution_count": 84,
     "metadata": {},
     "output_type": "execute_result"
    }
   ],
   "source": [
    "coco_obj.get_annotations()"
   ]
  },
  {
   "cell_type": "code",
   "execution_count": 65,
   "metadata": {},
   "outputs": [
    {
     "name": "stdout",
     "output_type": "stream",
     "text": [
      "Number of Annotations: 2000\n",
      "Example Annotations Info:\n",
      "\t{'segmentation': [[344.0, 427.5, 367.0, 412.5, 388.0, 401.5, 392.0, 397.5, 395.0, 397.5, 404.0, 392.5, 406.5, 390.0, 406.5, 387.0, 402.5, 380.0, 397.0, 375.5, 389.0, 376.5, 385.0, 380.5, 363.0, 391.5, 335.0, 410.5, 331.0, 411.5, 329.5, 415.0, 335.0, 417.5, 338.5, 421.0, 340.5, 426.0, 344.0, 427.5]], 'iscrowd': 0, 'image_id': 0, 'category_id': 1, 'id': 0, 'bbox': [329.5, 375.5, 77.0, 52.0], 'area': 1510.5}\n",
      "{'segmentation': [[412.0, 323.5, 414.5, 321.0, 417.5, 305.0, 422.5, 294.0, 423.5, 288.0, 427.5, 283.0, 426.5, 277.0, 428.5, 275.0, 435.5, 256.0, 435.5, 251.0, 434.0, 249.5, 429.0, 249.5, 416.0, 245.5, 410.0, 245.5, 406.5, 252.0, 406.5, 258.0, 402.5, 270.0, 402.5, 277.0, 396.5, 295.0, 396.5, 305.0, 394.5, 313.0, 394.5, 319.0, 396.0, 320.5, 406.0, 323.5, 412.0, 323.5]], 'iscrowd': 0, 'image_id': 1, 'category_id': 1, 'id': 1, 'bbox': [394.5, 245.5, 41.0, 78.0], 'area': 1872.25}\n"
     ]
    }
   ],
   "source": [
    "anno = coco_obj.get_annotations(display = False)\n",
    "print(anno[1])"
   ]
  },
  {
   "cell_type": "code",
   "execution_count": 67,
   "metadata": {},
   "outputs": [
    {
     "name": "stdout",
     "output_type": "stream",
     "text": [
      "20191030-01:42 | utils.py - INFO - DONE: unzip_file.\tElapsed Time: 869.22ms\t\n"
     ]
    }
   ],
   "source": [
    "fileIO_utils.unzip_file(os.path.join(user_dir, 'Downloads\\\\balloon_dataset.zip'))"
   ]
  },
  {
   "cell_type": "code",
   "execution_count": null,
   "metadata": {},
   "outputs": [],
   "source": []
  }
 ],
 "metadata": {
  "kernelspec": {
   "display_name": "Python 3",
   "language": "python",
   "name": "python3"
  },
  "language_info": {
   "codemirror_mode": {
    "name": "ipython",
    "version": 3
   },
   "file_extension": ".py",
   "mimetype": "text/x-python",
   "name": "python",
   "nbconvert_exporter": "python",
   "pygments_lexer": "ipython3",
   "version": "3.7.3"
  }
 },
 "nbformat": 4,
 "nbformat_minor": 2
}
