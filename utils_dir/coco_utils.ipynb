{
 "cells": [
  {
   "cell_type": "code",
   "execution_count": 1,
   "metadata": {},
   "outputs": [],
   "source": [
    "#!/usr/bin/python\n",
    "%load_ext autoreload\n",
    "%autoreload 2\n",
    "import warnings\n",
    "warnings.filterwarnings('ignore')\n",
    "from IPython.core.debugger import set_trace"
   ]
  },
  {
   "cell_type": "code",
   "execution_count": 51,
   "metadata": {},
   "outputs": [
    {
     "ename": "ModuleNotFoundError",
     "evalue": "No module named 'pycocotools.cocostuffhelper'",
     "output_type": "error",
     "traceback": [
      "\u001b[0;31m---------------------------------------------------------------------------\u001b[0m",
      "\u001b[0;31mModuleNotFoundError\u001b[0m                       Traceback (most recent call last)",
      "\u001b[0;32m<ipython-input-51-c68e535eddcb>\u001b[0m in \u001b[0;36m<module>\u001b[0;34m\u001b[0m\n\u001b[1;32m     13\u001b[0m \u001b[0;32mfrom\u001b[0m \u001b[0mPIL\u001b[0m \u001b[0;32mimport\u001b[0m \u001b[0mImageDraw\u001b[0m\u001b[0;34m\u001b[0m\u001b[0;34m\u001b[0m\u001b[0m\n\u001b[1;32m     14\u001b[0m \u001b[0;32mfrom\u001b[0m \u001b[0mpycocotools\u001b[0m \u001b[0;32mimport\u001b[0m \u001b[0mmask\u001b[0m\u001b[0;34m\u001b[0m\u001b[0;34m\u001b[0m\u001b[0m\n\u001b[0;32m---> 15\u001b[0;31m \u001b[0;32mfrom\u001b[0m \u001b[0mpycocotools\u001b[0m\u001b[0;34m.\u001b[0m\u001b[0mcocostuffhelper\u001b[0m \u001b[0;32mimport\u001b[0m \u001b[0mcocoSegmentationToPng\u001b[0m\u001b[0;34m\u001b[0m\u001b[0;34m\u001b[0m\u001b[0m\n\u001b[0m\u001b[1;32m     16\u001b[0m \u001b[0;32mfrom\u001b[0m \u001b[0mpycocotools\u001b[0m\u001b[0;34m.\u001b[0m\u001b[0mcoco\u001b[0m \u001b[0;32mimport\u001b[0m \u001b[0mCOCO\u001b[0m\u001b[0;34m\u001b[0m\u001b[0;34m\u001b[0m\u001b[0m\n\u001b[1;32m     17\u001b[0m \u001b[0;32mimport\u001b[0m \u001b[0mskimage\u001b[0m\u001b[0;34m.\u001b[0m\u001b[0mio\u001b[0m\u001b[0;34m\u001b[0m\u001b[0;34m\u001b[0m\u001b[0m\n",
      "\u001b[0;31mModuleNotFoundError\u001b[0m: No module named 'pycocotools.cocostuffhelper'"
     ]
    }
   ],
   "source": [
    "# IMPORT PACKAGES\n",
    "from __future__ import print_function\n",
    "import os\n",
    "import numpy as np\n",
    "import logging\n",
    "import json\n",
    "from pathlib import Path\n",
    "from tqdm import tqdm\n",
    "from pathlib import Path\n",
    "# from skimage import measure, io\n",
    "# from shapely.geometry import Polygon, MultiPolygon\n",
    "import PIL\n",
    "from PIL import ImageDraw\n",
    "from pycocotools import mask\n",
    "from pycocotools.cocostuffhelper import cocoSegmentationToPng\n",
    "from pycocotools.coco import COCO\n",
    "import skimage.io\n",
    "\n",
    "import matplotlib.pyplot as plt\n",
    "# \n",
    "from utils import get_varargin, timeit\n",
    "import logger_utils"
   ]
  },
  {
   "cell_type": "code",
   "execution_count": 3,
   "metadata": {},
   "outputs": [],
   "source": [
    "# SETUP\n",
    "logger_utils.logging_setup()\n",
    "#\tWorking Directories\n",
    "current_dir = os.getcwd()\n",
    "user_dir = os.path.expanduser('~')\n",
    "# script_dir = os.path.dirname(os.path.abspath(__file__))"
   ]
  },
  {
   "cell_type": "code",
   "execution_count": 50,
   "metadata": {},
   "outputs": [
    {
     "name": "stdout",
     "output_type": "stream",
     "text": [
      "20191031-01:16 | <ipython-input-50-d8937193d41e> - INFO - Open file: /home/phatluu/serviceBot/datasets/via_sample/via_export_coco.json\n",
      "{'year': 2019, 'version': '1', 'description': 'Exported using VGG Image Annotator (http://www.robots.ox.ac.uk/~vgg/software/via/)', 'contributor': '', 'url': 'http://www.robots.ox.ac.uk/~vgg/software/via/', 'date_created': 'Wed Oct 30 2019 14:00:13 GMT-0500 (Central Daylight Time)'}\n",
      "[(116, 157), (94, 195), (176, 264), (343, 273), (383, 261), (385, 234), (369, 222), (406, 216), (398, 155), (364, 124), (310, 135), (297, 170), (304, 188), (244, 170), (158, 175)]\n"
     ]
    },
    {
     "data": {
      "text/plain": [
       "{'id': 0,\n",
       " 'image_id': '0',\n",
       " 'segmentation': [116,\n",
       "  157,\n",
       "  94,\n",
       "  195,\n",
       "  176,\n",
       "  264,\n",
       "  343,\n",
       "  273,\n",
       "  383,\n",
       "  261,\n",
       "  385,\n",
       "  234,\n",
       "  369,\n",
       "  222,\n",
       "  406,\n",
       "  216,\n",
       "  398,\n",
       "  155,\n",
       "  364,\n",
       "  124,\n",
       "  310,\n",
       "  135,\n",
       "  297,\n",
       "  170,\n",
       "  304,\n",
       "  188,\n",
       "  244,\n",
       "  170,\n",
       "  158,\n",
       "  175],\n",
       " 'area': 46488,\n",
       " 'bbox': [94, 124, 312, 149],\n",
       " 'iscrowd': 0}"
      ]
     },
     "execution_count": 50,
     "metadata": {},
     "output_type": "execute_result"
    }
   ],
   "source": [
    "class coco_dataset(object):\n",
    "# Initialize Class\n",
    "    def __init__(self, **kwargs):\n",
    "        json_filepath = get_varargin(kwargs, 'json_filepath', 'untitiles.json')\n",
    "        img_dir = get_varargin(kwargs,'img_dir', os.path.dirname(json_filepath))\n",
    "        self.json_filepath = json_filepath\n",
    "        self.img_dir = img_dir\n",
    "        self.load_json()\n",
    "# =================================================================================================================\n",
    "    @property\n",
    "    def json_filepath(self):\n",
    "        return self._json_filepath\n",
    "    @json_filepath.setter\n",
    "    def json_filepath(self, filepath):\n",
    "        self._json_filepath = filepath\n",
    "    @property\n",
    "    def img_dir(self):\n",
    "        return self._img_dir\n",
    "    @img_dir.setter\n",
    "    def img_dir(self, input_dir):\n",
    "        self._img_dir = input_dir\n",
    "# =================================================================================================================\n",
    "# METHODS\n",
    "    def load_json(self, **kwargs):\n",
    "        \"\"\"\n",
    "        Load .json file and create json object\n",
    "        \"\"\"\n",
    "        if not os.path.isfile(self.json_filepath):\n",
    "            logging.error('{} is not exist'.format(self.json_filepath))\n",
    "            raise FileNotFoundError('{} is not exist'.format(self.json_filepath))\n",
    "        else:\n",
    "            with open(self.json_filepath) as fid:\n",
    "                logging.info('Open file: {}'.format(self.json_filepath))\n",
    "                self.json_obj = json.load(fid)\n",
    "    \n",
    "    def get_keys(self, **kwargs):\n",
    "        key_list = list(self.json_obj.keys())\n",
    "        display_opt = get_varargin(kwargs, 'display', False)\n",
    "        self.json_key_list = key_list\n",
    "        if display_opt is True:\n",
    "            print(key_list) \n",
    "    \n",
    "    def get_json_data(self, **kwargs):\n",
    "        \"\"\"\n",
    "        Get key value from json object\n",
    "        Options:\n",
    "            display: Print key values info. Default: True\n",
    "            keys: List of key to get value. Default: All key\n",
    "        \"\"\"\n",
    "        display_opt = get_varargin(kwargs, 'display', True)\n",
    "        self.get_keys()\n",
    "        input_keys = get_varargin(kwargs, 'keys', self.json_key_list)\n",
    "        for key in input_keys:\n",
    "            if key in self.json_key_list:\n",
    "                strcmd = \"self.{} = self.json_obj.get('{}')\".format(key,key)\n",
    "                exec(strcmd)\n",
    "                if display_opt is True:\n",
    "                    strcmd = \"print(self.{})\".format(key)\n",
    "                    exec(strcmd)\n",
    "            else:\n",
    "                logging.info('Key not exist in coco json file: {}'.format(key))\n",
    "        \n",
    "    def get_info(self, **kwargs):\n",
    "        \"\"\"\n",
    "        Get values from 'info' key from json file object\n",
    "        \"\"\"\n",
    "        display_opt = get_varargin(kwargs, 'display', True)\n",
    "        self.get_json_data(keys = ['info'], display = display_opt)\n",
    "        return self.info\n",
    "    \n",
    "    def get_licenses(self, **kwargs):\n",
    "        \"\"\"\n",
    "        Get license info from coco .json file\n",
    "        \"\"\"        \n",
    "        display_opt = get_varargin(kwargs, 'display', True)\n",
    "        self.get_json_data(keys = ['licenses'], display = display_opt)\n",
    "        return self.licenses\n",
    "    \n",
    "    def get_categories(self, **kwargs):\n",
    "        \"\"\"\n",
    "        Get categories information from .json file\n",
    "        \"\"\"\n",
    "        display_opt = get_varargin(kwargs, 'display', True)\n",
    "        self.get_json_data(keys = ['categories'], display = display_opt)\n",
    "        print('Number of Categories: {}'.format(len(self.categories)))\n",
    "        return self.categories\n",
    "\n",
    "    def get_images(self, **kwargs):\n",
    "        \"\"\"\n",
    "        Get images information from .json file\n",
    "        \"\"\"\n",
    "        display_opt = get_varargin(kwargs, 'display', False)\n",
    "        verbose = get_varargin(kwargs, 'verbose', False)\n",
    "        self.get_json_data(keys = ['images'], display = display_opt)\n",
    "        if verbose is True:\n",
    "            print('Number of Images: {}'.format(len(self.images)))\n",
    "            print('Example Image Info:')\n",
    "            print('\\t{}'.format(self.images[0]))\n",
    "        return self.images\n",
    "    \n",
    "    def get_annotations(self, **kwargs):\n",
    "        \"\"\"\n",
    "        Get annotations information from .json file\n",
    "        \"\"\"\n",
    "        display_opt = get_varargin(kwargs, 'display', False)\n",
    "        verbose = get_varargin(kwargs, 'verbose', False)\n",
    "        self.get_json_data(keys = ['annotations'], display = display_opt)\n",
    "        if verbose is True:\n",
    "            print('Number of Annotations: {}'.format(len(self.annotations)))\n",
    "            print('Example Annotations Info:')\n",
    "            print('\\t{}'.format(self.annotations[0]))\n",
    "        return self.annotations\n",
    "    \n",
    "    def get_image_annotations(self, **kwargs):\n",
    "        \"\"\"\n",
    "        \"\"\"\n",
    "        img_id = get_varargin(kwargs, 'id', 0)\n",
    "        display_opt = get_varargin(kwargs, 'display', False)\n",
    "        coco_anno = self.get_annotations()\n",
    "        for anno in coco_anno:\n",
    "            if img_id == anno['id']:\n",
    "                if display_opt is True:\n",
    "                    print(anno)\n",
    "                return anno\n",
    "    \n",
    "    def display_image(self, **kwargs):\n",
    "        \"\"\"\n",
    "        \"\"\"\n",
    "        \n",
    "        img_id = get_varargin(kwargs, 'id', 0)\n",
    "        coco_img = self.get_image_info(id = img_id)\n",
    "        image_path = os.path.join(self.img_dir, coco_img['file_name'])\n",
    "        img = PIL.Image.open(image_path)\n",
    "        \n",
    "        img_anno = self.get_image_annotations(id = img_id)\n",
    "        segment = img_anno['segmentation']\n",
    "        x = segment[::2]\n",
    "        y = segment[1::2]\n",
    "        xy = [(x[i], y[i]) for i in range(len(x))]\n",
    "        print(xy)\n",
    "        img2 = img.copy()\n",
    "        draw = ImageDraw.Draw(img2)\n",
    "        draw.polygon(xy, fill = \"wheat\")\n",
    "\n",
    "        img3 = PIL.Image.blend(img, img2, 0.5)\n",
    "        img3.show()\n",
    "#         plt.imshow(img3)\n",
    "            \n",
    "    def get_image_info(self, **kwargs):\n",
    "        \"\"\"\n",
    "        Get image coco information from image id\n",
    "        \"\"\"\n",
    "        img_id = get_varargin(kwargs, 'id', 0)\n",
    "        coco_img = self.get_images()\n",
    "        for img in coco_img:\n",
    "            if img_id == img['id']:\n",
    "                return img\n",
    "    \n",
    "    \n",
    "# =================================================================================================================\n",
    "json_filepath = Path(user_dir) / 'serviceBot/datasets/via_sample/via_export_coco.json'\n",
    "train_imgpath = Path(user_dir) / 'serviceBot/datasets/via_sample/train'\n",
    "coco_obj = coco_dataset(json_filepath = json_filepath, img_dir = train_imgpath)\n",
    "coco_obj.get_info()\n",
    "coco_obj.get_image_info(id = 0)\n",
    "coco_obj.display_image(id = 0)\n",
    "coco_obj.get_image_annotations(id = 0)"
   ]
  },
  {
   "cell_type": "code",
   "execution_count": 30,
   "metadata": {},
   "outputs": [
    {
     "name": "stdout",
     "output_type": "stream",
     "text": [
      "[116, 157, 94, 195, 176, 264, 343, 273, 383, 261, 385, 234, 369, 222, 406, 216, 398, 155, 364, 124, 310, 135, 297, 170, 304, 188, 244, 170, 158, 175]\n"
     ]
    }
   ],
   "source": [
    "anno = coco_obj.get_image_annotations(id = 0, display = False)\n",
    "segment = anno['segmentation']\n",
    "print(segment)"
   ]
  },
  {
   "cell_type": "code",
   "execution_count": 31,
   "metadata": {},
   "outputs": [
    {
     "data": {
      "text/plain": [
       "list"
      ]
     },
     "execution_count": 31,
     "metadata": {},
     "output_type": "execute_result"
    }
   ],
   "source": [
    "type(segment)"
   ]
  },
  {
   "cell_type": "code",
   "execution_count": 33,
   "metadata": {},
   "outputs": [
    {
     "data": {
      "text/plain": [
       "[116, 94, 176, 343, 383, 385, 369, 406, 398, 364, 310, 297, 304, 244, 158]"
      ]
     },
     "execution_count": 33,
     "metadata": {},
     "output_type": "execute_result"
    }
   ],
   "source": [
    "segment[::2]"
   ]
  },
  {
   "cell_type": "code",
   "execution_count": 43,
   "metadata": {},
   "outputs": [
    {
     "data": {
      "text/plain": [
       "[157, 195, 264, 273, 261, 234, 222, 216, 155, 124, 135, 170, 188, 170, 175]"
      ]
     },
     "execution_count": 43,
     "metadata": {},
     "output_type": "execute_result"
    }
   ],
   "source": [
    "segment[1::2]"
   ]
  },
  {
   "cell_type": "code",
   "execution_count": null,
   "metadata": {},
   "outputs": [],
   "source": []
  }
 ],
 "metadata": {
  "kernelspec": {
   "display_name": "Python 3",
   "language": "python",
   "name": "python3"
  },
  "language_info": {
   "codemirror_mode": {
    "name": "ipython",
    "version": 3
   },
   "file_extension": ".py",
   "mimetype": "text/x-python",
   "name": "python",
   "nbconvert_exporter": "python",
   "pygments_lexer": "ipython3",
   "version": "3.7.4"
  }
 },
 "nbformat": 4,
 "nbformat_minor": 4
}
